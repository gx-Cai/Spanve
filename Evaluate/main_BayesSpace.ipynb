{
 "cells": [
  {
   "cell_type": "code",
   "execution_count": 10,
   "id": "065ace64-b7f8-4598-8a2c-51d6ff2969bf",
   "metadata": {
    "collapsed": true,
    "jupyter": {
     "outputs_hidden": true
    },
    "tags": []
   },
   "outputs": [
    {
     "name": "stderr",
     "output_type": "stream",
     "text": [
      "Warning message in .regularise_df(as.data.frame(SummarizedExperiment::colData(obj)), :\n",
      "“Dropping single category variables:sample_name, tissue, height, width, subject, position, replicate, subject_position, Layer”\n",
      "Warning message in .regularise_df(as.data.frame(SummarizedExperiment::rowData(obj)), :\n",
      "“Dropping single category variables:type”\n",
      "Warning message in .regularise_df(as.data.frame(SummarizedExperiment::colData(obj)), :\n",
      "“Dropping single category variables:sample_name, tissue, height, width, subject, position, replicate, subject_position, Layer”\n",
      "Warning message in .regularise_df(as.data.frame(SummarizedExperiment::rowData(obj)), :\n",
      "“Dropping single category variables:type”\n",
      "Warning message in .regularise_df(as.data.frame(SummarizedExperiment::colData(obj)), :\n",
      "“Dropping single category variables:sample_name, tissue, height, width, subject, position, replicate, subject_position, Layer”\n",
      "Warning message in .regularise_df(as.data.frame(SummarizedExperiment::rowData(obj)), :\n",
      "“Dropping single category variables:type”\n",
      "Warning message in .regularise_df(as.data.frame(SummarizedExperiment::colData(obj)), :\n",
      "“Dropping single category variables:sample_name, tissue, height, width, subject, position, replicate, subject_position, Layer”\n",
      "Warning message in .regularise_df(as.data.frame(SummarizedExperiment::rowData(obj)), :\n",
      "“Dropping single category variables:type”\n",
      "Warning message in .regularise_df(as.data.frame(SummarizedExperiment::colData(obj)), :\n",
      "“Dropping single category variables:sample_name, tissue, height, width, subject, position, replicate, subject_position, Layer”\n",
      "Warning message in .regularise_df(as.data.frame(SummarizedExperiment::rowData(obj)), :\n",
      "“Dropping single category variables:type”\n",
      "Warning message in .regularise_df(as.data.frame(SummarizedExperiment::colData(obj)), :\n",
      "“Dropping single category variables:sample_name, tissue, height, width, subject, position, replicate, subject_position, Layer”\n",
      "Warning message in .regularise_df(as.data.frame(SummarizedExperiment::rowData(obj)), :\n",
      "“Dropping single category variables:type”\n",
      "Warning message in .regularise_df(as.data.frame(SummarizedExperiment::colData(obj)), :\n",
      "“Dropping single category variables:sample_name, tissue, height, width, subject, position, replicate, subject_position, Layer”\n",
      "Warning message in .regularise_df(as.data.frame(SummarizedExperiment::rowData(obj)), :\n",
      "“Dropping single category variables:type”\n",
      "Warning message in .regularise_df(as.data.frame(SummarizedExperiment::colData(obj)), :\n",
      "“Dropping single category variables:sample_name, tissue, height, width, subject, position, replicate, subject_position, Layer”\n",
      "Warning message in .regularise_df(as.data.frame(SummarizedExperiment::rowData(obj)), :\n",
      "“Dropping single category variables:type”\n",
      "Warning message in .regularise_df(as.data.frame(SummarizedExperiment::colData(obj)), :\n",
      "“Dropping single category variables:sample_name, tissue, height, width, subject, position, replicate, subject_position, Layer”\n",
      "Warning message in .regularise_df(as.data.frame(SummarizedExperiment::rowData(obj)), :\n",
      "“Dropping single category variables:type”\n",
      "Warning message in .regularise_df(as.data.frame(SummarizedExperiment::colData(obj)), :\n",
      "“Dropping single category variables:sample_name, tissue, height, width, subject, position, replicate, subject_position, Layer”\n",
      "Warning message in .regularise_df(as.data.frame(SummarizedExperiment::rowData(obj)), :\n",
      "“Dropping single category variables:type”\n",
      "Warning message in .regularise_df(as.data.frame(SummarizedExperiment::colData(obj)), :\n",
      "“Dropping single category variables:sample_name, tissue, height, width, subject, position, replicate, subject_position, Layer”\n",
      "Warning message in .regularise_df(as.data.frame(SummarizedExperiment::rowData(obj)), :\n",
      "“Dropping single category variables:type”\n",
      "Warning message in .regularise_df(as.data.frame(SummarizedExperiment::colData(obj)), :\n",
      "“Dropping single category variables:sample_name, tissue, height, width, subject, position, replicate, subject_position, Layer”\n",
      "Warning message in .regularise_df(as.data.frame(SummarizedExperiment::rowData(obj)), :\n",
      "“Dropping single category variables:type”\n"
     ]
    }
   ],
   "source": [
    "for (data_id in c('151507','151508','151509','151510','151669','151670','151671','151672','151673','151674','151675','151676')){\n",
    "\n",
    "    sce_dir = paste0('./data/SpatialLIBD/',data_id,'.rds')\n",
    "    save_dir = paste0('./recode/IMPUTEDLIBD/processed/',data_id,'.h5ad.2')\n",
    "\n",
    "    sce = readRDS(sce_dir)\n",
    "\n",
    "    sceasy::convertFormat(sce, from=\"sce\", to=\"anndata\",outFile=save_dir)\n",
    "    }"
   ]
  },
  {
   "cell_type": "markdown",
   "id": "7019922f-5e1d-4c93-b43f-31435e69f1b7",
   "metadata": {
    "tags": []
   },
   "source": [
    "# BayesSpace"
   ]
  },
  {
   "cell_type": "code",
   "execution_count": 1,
   "id": "d39dfc97-a516-4032-9834-a017fe74ae09",
   "metadata": {
    "collapsed": true,
    "jupyter": {
     "outputs_hidden": true
    },
    "tags": []
   },
   "outputs": [
    {
     "name": "stderr",
     "output_type": "stream",
     "text": [
      "Loading required package: SummarizedExperiment\n",
      "\n",
      "Loading required package: MatrixGenerics\n",
      "\n",
      "Loading required package: matrixStats\n",
      "\n",
      "\n",
      "Attaching package: ‘MatrixGenerics’\n",
      "\n",
      "\n",
      "The following objects are masked from ‘package:matrixStats’:\n",
      "\n",
      "    colAlls, colAnyNAs, colAnys, colAvgsPerRowSet, colCollapse,\n",
      "    colCounts, colCummaxs, colCummins, colCumprods, colCumsums,\n",
      "    colDiffs, colIQRDiffs, colIQRs, colLogSumExps, colMadDiffs,\n",
      "    colMads, colMaxs, colMeans2, colMedians, colMins, colOrderStats,\n",
      "    colProds, colQuantiles, colRanges, colRanks, colSdDiffs, colSds,\n",
      "    colSums2, colTabulates, colVarDiffs, colVars, colWeightedMads,\n",
      "    colWeightedMeans, colWeightedMedians, colWeightedSds,\n",
      "    colWeightedVars, rowAlls, rowAnyNAs, rowAnys, rowAvgsPerColSet,\n",
      "    rowCollapse, rowCounts, rowCummaxs, rowCummins, rowCumprods,\n",
      "    rowCumsums, rowDiffs, rowIQRDiffs, rowIQRs, rowLogSumExps,\n",
      "    rowMadDiffs, rowMads, rowMaxs, rowMeans2, rowMedians, rowMins,\n",
      "    rowOrderStats, rowProds, rowQuantiles, rowRanges, rowRanks,\n",
      "    rowSdDiffs, rowSds, rowSums2, rowTabulates, rowVarDiffs, rowVars,\n",
      "    rowWeightedMads, rowWeightedMeans, rowWeightedMedians,\n",
      "    rowWeightedSds, rowWeightedVars\n",
      "\n",
      "\n",
      "Loading required package: GenomicRanges\n",
      "\n",
      "Loading required package: stats4\n",
      "\n",
      "Loading required package: BiocGenerics\n",
      "\n",
      "\n",
      "Attaching package: ‘BiocGenerics’\n",
      "\n",
      "\n",
      "The following objects are masked from ‘package:stats’:\n",
      "\n",
      "    IQR, mad, sd, var, xtabs\n",
      "\n",
      "\n",
      "The following objects are masked from ‘package:base’:\n",
      "\n",
      "    anyDuplicated, append, as.data.frame, basename, cbind, colnames,\n",
      "    dirname, do.call, duplicated, eval, evalq, Filter, Find, get, grep,\n",
      "    grepl, intersect, is.unsorted, lapply, Map, mapply, match, mget,\n",
      "    order, paste, pmax, pmax.int, pmin, pmin.int, Position, rank,\n",
      "    rbind, Reduce, rownames, sapply, setdiff, sort, table, tapply,\n",
      "    union, unique, unsplit, which.max, which.min\n",
      "\n",
      "\n",
      "Loading required package: S4Vectors\n",
      "\n",
      "\n",
      "Attaching package: ‘S4Vectors’\n",
      "\n",
      "\n",
      "The following objects are masked from ‘package:base’:\n",
      "\n",
      "    expand.grid, I, unname\n",
      "\n",
      "\n",
      "Loading required package: IRanges\n",
      "\n",
      "Loading required package: GenomeInfoDb\n",
      "\n",
      "Loading required package: Biobase\n",
      "\n",
      "Welcome to Bioconductor\n",
      "\n",
      "    Vignettes contain introductory material; view with\n",
      "    'browseVignettes()'. To cite Bioconductor, see\n",
      "    'citation(\"Biobase\")', and for packages 'citation(\"pkgname\")'.\n",
      "\n",
      "\n",
      "\n",
      "Attaching package: ‘Biobase’\n",
      "\n",
      "\n",
      "The following object is masked from ‘package:MatrixGenerics’:\n",
      "\n",
      "    rowMedians\n",
      "\n",
      "\n",
      "The following objects are masked from ‘package:matrixStats’:\n",
      "\n",
      "    anyMissing, rowMedians\n",
      "\n",
      "\n",
      "Loading required package: ggplot2\n",
      "\n",
      "Loading required package: reticulate\n",
      "\n",
      "Attaching SeuratObject\n",
      "\n",
      "Attaching sp\n",
      "\n",
      "\n",
      "Attaching package: ‘Seurat’\n",
      "\n",
      "\n",
      "The following object is masked from ‘package:SummarizedExperiment’:\n",
      "\n",
      "    Assays\n",
      "\n",
      "\n"
     ]
    }
   ],
   "source": [
    "library(SingleCellExperiment)\n",
    "library(scuttle)\n",
    "library(scran)\n",
    "library(scater)\n",
    "library(BiocSingular)\n",
    "library(sceasy)\n",
    "library(Seurat)\n",
    "library(BayesSpace)"
   ]
  },
  {
   "cell_type": "code",
   "execution_count": null,
   "id": "bce9311d-44c3-4970-bc60-c2d3249cc306",
   "metadata": {},
   "outputs": [],
   "source": []
  },
  {
   "cell_type": "code",
   "execution_count": 3,
   "id": "215efd9b-5ca3-458c-9e6f-bbce2238fb98",
   "metadata": {
    "tags": []
   },
   "outputs": [],
   "source": [
    "set.seed(101)\n",
    "for (data_id in c('151507','151508','151509','151510','151669','151670','151671','151672','151673','151674','151675','151676')){\n",
    "\n",
    "    sce_dir = paste0('./data/SpatialLIBD/',data_id,'.rds')\n",
    "    save_dir = paste0('./recode/IMPUTEDLIBD/BS/',data_id,'_base.out.csv')\n",
    "\n",
    "    sce = readRDS(sce_dir)\n",
    "\n",
    "    sce.p = spatialPreprocess(sce, platform=\"Visium\")\n",
    "    cat('Clustering','\\n')\n",
    "    sce.p = spatialCluster(sce.p, q=length(unique(sce$layer_guess_reordered)), d=15, platform='Visium', gamma=3)\n",
    "    \n",
    "    res = as.data.frame(sce.p$spatial.cluster)\n",
    "    row.names(res) = colnames(sce)\n",
    "    write.csv(res,save_dir)\n",
    "    }"
   ]
  },
  {
   "cell_type": "code",
   "execution_count": 11,
   "id": "ee094c64-15d4-4f1d-aba0-24acccc882df",
   "metadata": {
    "collapsed": true,
    "jupyter": {
     "outputs_hidden": true
    },
    "tags": []
   },
   "outputs": [
    {
     "name": "stdout",
     "output_type": "stream",
     "text": [
      "./recode/IMPUTEDLIBD/processed/151673.h5ad \n",
      " ./recode/IMPUTEDLIBD/processed/151673.seurat \n",
      " ./recode/IMPUTEDLIBD/BS/151673_BS.out.csv \n",
      "Clustering \n"
     ]
    },
    {
     "name": "stderr",
     "output_type": "stream",
     "text": [
      "Neighbors were identified for 0 out of 3639 spots.\n",
      "\n",
      "Fitting model...\n",
      "\n",
      "Calculating labels using iterations 1000 through 50000.\n",
      "\n"
     ]
    },
    {
     "name": "stdout",
     "output_type": "stream",
     "text": [
      "Clustering \n"
     ]
    },
    {
     "name": "stderr",
     "output_type": "stream",
     "text": [
      "Neighbors were identified for 0 out of 3639 spots.\n",
      "\n",
      "Fitting model...\n",
      "\n",
      "Calculating labels using iterations 1000 through 50000.\n",
      "\n"
     ]
    },
    {
     "name": "stdout",
     "output_type": "stream",
     "text": [
      "./recode/IMPUTEDLIBD/processed/151674.h5ad \n",
      " ./recode/IMPUTEDLIBD/processed/151674.seurat \n",
      " ./recode/IMPUTEDLIBD/BS/151674_BS.out.csv \n",
      "Clustering \n"
     ]
    },
    {
     "name": "stderr",
     "output_type": "stream",
     "text": [
      "Neighbors were identified for 0 out of 3673 spots.\n",
      "\n",
      "Fitting model...\n",
      "\n",
      "Calculating labels using iterations 1000 through 50000.\n",
      "\n"
     ]
    },
    {
     "name": "stdout",
     "output_type": "stream",
     "text": [
      "Clustering \n"
     ]
    },
    {
     "name": "stderr",
     "output_type": "stream",
     "text": [
      "Neighbors were identified for 0 out of 3673 spots.\n",
      "\n",
      "Fitting model...\n",
      "\n",
      "Calculating labels using iterations 1000 through 50000.\n",
      "\n"
     ]
    },
    {
     "name": "stdout",
     "output_type": "stream",
     "text": [
      "./recode/IMPUTEDLIBD/processed/151675.h5ad \n",
      " ./recode/IMPUTEDLIBD/processed/151675.seurat \n",
      " ./recode/IMPUTEDLIBD/BS/151675_BS.out.csv \n",
      "Clustering \n"
     ]
    },
    {
     "name": "stderr",
     "output_type": "stream",
     "text": [
      "Neighbors were identified for 0 out of 3592 spots.\n",
      "\n",
      "Fitting model...\n",
      "\n",
      "Calculating labels using iterations 1000 through 50000.\n",
      "\n"
     ]
    },
    {
     "name": "stdout",
     "output_type": "stream",
     "text": [
      "Clustering \n"
     ]
    },
    {
     "name": "stderr",
     "output_type": "stream",
     "text": [
      "Neighbors were identified for 0 out of 3592 spots.\n",
      "\n",
      "Fitting model...\n",
      "\n",
      "Calculating labels using iterations 1000 through 50000.\n",
      "\n"
     ]
    },
    {
     "name": "stdout",
     "output_type": "stream",
     "text": [
      "./recode/IMPUTEDLIBD/processed/151676.h5ad \n",
      " ./recode/IMPUTEDLIBD/processed/151676.seurat \n",
      " ./recode/IMPUTEDLIBD/BS/151676_BS.out.csv \n",
      "Clustering \n"
     ]
    },
    {
     "name": "stderr",
     "output_type": "stream",
     "text": [
      "Neighbors were identified for 0 out of 3460 spots.\n",
      "\n",
      "Fitting model...\n",
      "\n",
      "Calculating labels using iterations 1000 through 50000.\n",
      "\n"
     ]
    },
    {
     "name": "stdout",
     "output_type": "stream",
     "text": [
      "Clustering \n"
     ]
    },
    {
     "name": "stderr",
     "output_type": "stream",
     "text": [
      "Neighbors were identified for 0 out of 3460 spots.\n",
      "\n",
      "Fitting model...\n",
      "\n",
      "Calculating labels using iterations 1000 through 50000.\n",
      "\n"
     ]
    }
   ],
   "source": [
    "set.seed(101)\n",
    "for (data_id in c('151673','151674','151675','151676')){\n",
    "    # '151507','151508','151509','151510','151669','151670','151671','151672',\n",
    "    base_dir = paste0('./recode/IMPUTEDLIBD/processed/',data_id,'.h5ad')\n",
    "    seurat_dir = paste0('./recode/IMPUTEDLIBD/processed/',data_id,'.seurat')\n",
    "    sce_dir = paste0('./recode/IMPUTEDLIBD/processed/',data_id,'.sce')\n",
    "    save_dir = paste0('./recode/IMPUTEDLIBD/BS/',data_id,'_BS.out.csv')\n",
    "    cat(base_dir,'\\n',seurat_dir,'\\n',save_dir,'\\n')\n",
    "\n",
    "    # sceasy::convertFormat(base_dir, from=\"anndata\", to=\"seurat\",outFile=seurat_dir)\n",
    "    # seurat.obj = readRDS(seurat_dir)\n",
    "    sce = readRDS(sce_dir)\n",
    "    # sceasy::convertFormat(seurat.obj, from=\"seurat\", to=\"sce\",outFile=sce_dir)\n",
    "    df = colData(sce)\n",
    "    df = cbind(df,reducedDim(sce))\n",
    "    colnames(df) = c(colnames(df)[1:3],'col','row')\n",
    "    sce@colData = df\n",
    "    # spanve.out = seurat.obj@assays$RNA@meta.features\n",
    "\n",
    "    cat('Clustering','\\n')\n",
    "    sce.i <- spatialCluster(sce, use.dimred='SPANVE.IMPUTED.PCA.PRE', q=length(unique(sce@colData$ground_truth)), d=15, platform='Visium', gamma=3)\n",
    "    sce.p = spatialPreprocess(sce, platform=\"Visium\")\n",
    "    cat('Clustering','\\n')\n",
    "    sce.p = spatialCluster(sce.p, q=length(unique(sce@colData$ground_truth)), d=15, platform='Visium', gamma=3)\n",
    "    \n",
    "    # sce@assays@data$logcounts = as(t(reducedDim(sce,'S.IMPUTE.PRE.ALL')),'dgCMatrix')\n",
    "    # sce.i2 = spatialPreprocess(sce, platform=\"Visium\",log.normalize = F)\n",
    "    # sce.i2 = spatialCluster(sce.i2, q=length(unique(sce@colData$ground_truth)), d=15, platform='Visium', gamma=3)\n",
    "    \n",
    "    res = as.data.frame(\n",
    "        list(\n",
    "            # spanve_i2=sce.i2$spatial.cluster,\n",
    "            spanve_i=sce.i$spatial.cluster,\n",
    "            base = sce.p$spatial.cluster)\n",
    "        )\n",
    "    write.csv(res,save_dir)\n",
    "    }"
   ]
  },
  {
   "cell_type": "markdown",
   "id": "2029bf0f-ffef-4ef3-adc7-41f098f9275f",
   "metadata": {
    "tags": []
   },
   "source": [
    "# SCMEB"
   ]
  },
  {
   "cell_type": "code",
   "execution_count": 1,
   "id": "ac3bed93-28ef-4eaf-927a-abc5ca0d9eb0",
   "metadata": {
    "collapsed": true,
    "jupyter": {
     "outputs_hidden": true
    },
    "tags": []
   },
   "outputs": [
    {
     "name": "stderr",
     "output_type": "stream",
     "text": [
      "Loading required package: SummarizedExperiment\n",
      "\n",
      "Loading required package: MatrixGenerics\n",
      "\n",
      "Loading required package: matrixStats\n",
      "\n",
      "\n",
      "Attaching package: ‘MatrixGenerics’\n",
      "\n",
      "\n",
      "The following objects are masked from ‘package:matrixStats’:\n",
      "\n",
      "    colAlls, colAnyNAs, colAnys, colAvgsPerRowSet, colCollapse,\n",
      "    colCounts, colCummaxs, colCummins, colCumprods, colCumsums,\n",
      "    colDiffs, colIQRDiffs, colIQRs, colLogSumExps, colMadDiffs,\n",
      "    colMads, colMaxs, colMeans2, colMedians, colMins, colOrderStats,\n",
      "    colProds, colQuantiles, colRanges, colRanks, colSdDiffs, colSds,\n",
      "    colSums2, colTabulates, colVarDiffs, colVars, colWeightedMads,\n",
      "    colWeightedMeans, colWeightedMedians, colWeightedSds,\n",
      "    colWeightedVars, rowAlls, rowAnyNAs, rowAnys, rowAvgsPerColSet,\n",
      "    rowCollapse, rowCounts, rowCummaxs, rowCummins, rowCumprods,\n",
      "    rowCumsums, rowDiffs, rowIQRDiffs, rowIQRs, rowLogSumExps,\n",
      "    rowMadDiffs, rowMads, rowMaxs, rowMeans2, rowMedians, rowMins,\n",
      "    rowOrderStats, rowProds, rowQuantiles, rowRanges, rowRanks,\n",
      "    rowSdDiffs, rowSds, rowSums2, rowTabulates, rowVarDiffs, rowVars,\n",
      "    rowWeightedMads, rowWeightedMeans, rowWeightedMedians,\n",
      "    rowWeightedSds, rowWeightedVars\n",
      "\n",
      "\n",
      "Loading required package: GenomicRanges\n",
      "\n",
      "Loading required package: stats4\n",
      "\n",
      "Loading required package: BiocGenerics\n",
      "\n",
      "\n",
      "Attaching package: ‘BiocGenerics’\n",
      "\n",
      "\n",
      "The following objects are masked from ‘package:stats’:\n",
      "\n",
      "    IQR, mad, sd, var, xtabs\n",
      "\n",
      "\n",
      "The following objects are masked from ‘package:base’:\n",
      "\n",
      "    anyDuplicated, append, as.data.frame, basename, cbind, colnames,\n",
      "    dirname, do.call, duplicated, eval, evalq, Filter, Find, get, grep,\n",
      "    grepl, intersect, is.unsorted, lapply, Map, mapply, match, mget,\n",
      "    order, paste, pmax, pmax.int, pmin, pmin.int, Position, rank,\n",
      "    rbind, Reduce, rownames, sapply, setdiff, sort, table, tapply,\n",
      "    union, unique, unsplit, which.max, which.min\n",
      "\n",
      "\n",
      "Loading required package: S4Vectors\n",
      "\n",
      "\n",
      "Attaching package: ‘S4Vectors’\n",
      "\n",
      "\n",
      "The following objects are masked from ‘package:base’:\n",
      "\n",
      "    expand.grid, I, unname\n",
      "\n",
      "\n",
      "Loading required package: IRanges\n",
      "\n",
      "Loading required package: GenomeInfoDb\n",
      "\n",
      "Loading required package: Biobase\n",
      "\n",
      "Welcome to Bioconductor\n",
      "\n",
      "    Vignettes contain introductory material; view with\n",
      "    'browseVignettes()'. To cite Bioconductor, see\n",
      "    'citation(\"Biobase\")', and for packages 'citation(\"pkgname\")'.\n",
      "\n",
      "\n",
      "\n",
      "Attaching package: ‘Biobase’\n",
      "\n",
      "\n",
      "The following object is masked from ‘package:MatrixGenerics’:\n",
      "\n",
      "    rowMedians\n",
      "\n",
      "\n",
      "The following objects are masked from ‘package:matrixStats’:\n",
      "\n",
      "    anyMissing, rowMedians\n",
      "\n",
      "\n",
      "Loading required package: ggplot2\n",
      "\n",
      "Loading required package: reticulate\n",
      "\n",
      "Attaching SeuratObject\n",
      "\n",
      "Attaching sp\n",
      "\n",
      "\n",
      "Attaching package: ‘Seurat’\n",
      "\n",
      "\n",
      "The following object is masked from ‘package:SummarizedExperiment’:\n",
      "\n",
      "    Assays\n",
      "\n",
      "\n",
      "Loading required package: mclust\n",
      "\n",
      "Package 'mclust' version 5.4.10\n",
      "Type 'citation(\"mclust\")' for citing this R package in publications.\n",
      "\n"
     ]
    }
   ],
   "source": [
    "library(SingleCellExperiment)\n",
    "library(scuttle)\n",
    "library(scran)\n",
    "library(scater)\n",
    "library(BiocSingular)\n",
    "library(sceasy)\n",
    "library(Seurat)\n",
    "library(SC.MEB)\n",
    "platform = \"Visium\"\n",
    "beta_grid = seq(0,4,0.2)\n",
    "K_set= 2:10\n",
    "parallel=TRUE\n",
    "num_core = 16\n",
    "PX = TRUE\n",
    "maxIter_ICM = 10\n",
    "maxIter = 50"
   ]
  },
  {
   "cell_type": "code",
   "execution_count": 6,
   "id": "02814758-7b2b-4289-9ef4-340f68556bde",
   "metadata": {
    "collapsed": true,
    "jupyter": {
     "outputs_hidden": true
    },
    "tags": []
   },
   "outputs": [
    {
     "name": "stderr",
     "output_type": "stream",
     "text": [
      "\n",
      "Attaching package: ‘purrr’\n",
      "\n",
      "\n",
      "The following object is masked from ‘package:mclust’:\n",
      "\n",
      "    map\n",
      "\n",
      "\n",
      "The following object is masked from ‘package:GenomicRanges’:\n",
      "\n",
      "    reduce\n",
      "\n",
      "\n",
      "The following object is masked from ‘package:IRanges’:\n",
      "\n",
      "    reduce\n",
      "\n",
      "\n",
      "\n",
      "Attaching package: ‘Matrix’\n",
      "\n",
      "\n",
      "The following object is masked from ‘package:S4Vectors’:\n",
      "\n",
      "    expand\n",
      "\n",
      "\n",
      "Neighbors were identified for 4226 out of 4226 spots.\n",
      "\n"
     ]
    },
    {
     "name": "stdout",
     "output_type": "stream",
     "text": [
      "Clustering \n",
      "Starting parallel computing..."
     ]
    },
    {
     "name": "stderr",
     "output_type": "stream",
     "text": [
      "Neighbors were identified for 4381 out of 4384 spots.\n",
      "\n"
     ]
    },
    {
     "name": "stdout",
     "output_type": "stream",
     "text": [
      "Clustering \n",
      "Starting parallel computing..."
     ]
    },
    {
     "name": "stderr",
     "output_type": "stream",
     "text": [
      "Neighbors were identified for 4789 out of 4789 spots.\n",
      "\n"
     ]
    },
    {
     "name": "stdout",
     "output_type": "stream",
     "text": [
      "Clustering \n",
      "Starting parallel computing..."
     ]
    },
    {
     "name": "stderr",
     "output_type": "stream",
     "text": [
      "Neighbors were identified for 4634 out of 4634 spots.\n",
      "\n"
     ]
    },
    {
     "name": "stdout",
     "output_type": "stream",
     "text": [
      "Clustering \n",
      "Starting parallel computing..."
     ]
    },
    {
     "name": "stderr",
     "output_type": "stream",
     "text": [
      "Neighbors were identified for 3658 out of 3661 spots.\n",
      "\n"
     ]
    },
    {
     "name": "stdout",
     "output_type": "stream",
     "text": [
      "Clustering \n",
      "Starting parallel computing..."
     ]
    },
    {
     "name": "stderr",
     "output_type": "stream",
     "text": [
      "Neighbors were identified for 3495 out of 3498 spots.\n",
      "\n"
     ]
    },
    {
     "name": "stdout",
     "output_type": "stream",
     "text": [
      "Clustering \n",
      "Starting parallel computing..."
     ]
    },
    {
     "name": "stderr",
     "output_type": "stream",
     "text": [
      "Neighbors were identified for 4110 out of 4110 spots.\n",
      "\n"
     ]
    },
    {
     "name": "stdout",
     "output_type": "stream",
     "text": [
      "Clustering \n",
      "Starting parallel computing..."
     ]
    },
    {
     "name": "stderr",
     "output_type": "stream",
     "text": [
      "Neighbors were identified for 4015 out of 4015 spots.\n",
      "\n"
     ]
    },
    {
     "name": "stdout",
     "output_type": "stream",
     "text": [
      "Clustering \n",
      "Starting parallel computing..."
     ]
    },
    {
     "name": "stderr",
     "output_type": "stream",
     "text": [
      "Neighbors were identified for 3638 out of 3639 spots.\n",
      "\n"
     ]
    },
    {
     "name": "stdout",
     "output_type": "stream",
     "text": [
      "Clustering \n",
      "Starting parallel computing..."
     ]
    },
    {
     "name": "stderr",
     "output_type": "stream",
     "text": [
      "Neighbors were identified for 3670 out of 3673 spots.\n",
      "\n"
     ]
    },
    {
     "name": "stdout",
     "output_type": "stream",
     "text": [
      "Clustering \n",
      "Starting parallel computing..."
     ]
    },
    {
     "name": "stderr",
     "output_type": "stream",
     "text": [
      "Neighbors were identified for 3586 out of 3592 spots.\n",
      "\n"
     ]
    },
    {
     "name": "stdout",
     "output_type": "stream",
     "text": [
      "Clustering \n",
      "Starting parallel computing..."
     ]
    },
    {
     "name": "stderr",
     "output_type": "stream",
     "text": [
      "Neighbors were identified for 3456 out of 3460 spots.\n",
      "\n"
     ]
    },
    {
     "name": "stdout",
     "output_type": "stream",
     "text": [
      "Clustering \n",
      "Starting parallel computing..."
     ]
    }
   ],
   "source": [
    "set.seed(101)\n",
    "for (data_id in c('151507','151508','151509','151510','151669','151670','151671','151672','151673','151674','151675','151676')){\n",
    "\n",
    "    sce_dir = paste0('./data/SpatialLIBD/',data_id,'.rds')\n",
    "    save_dir = paste0('./recode/IMPUTEDLIBD/SCMEB/',data_id,'_base.out.csv')\n",
    "\n",
    "    sce = readRDS(sce_dir)\n",
    "\n",
    "    sce.p = spatialPreprocess(sce, platform=\"Visium\")\n",
    "    Adj_sp  <- find_neighbors2(sce, platform = \"Visium\")\n",
    "    \n",
    "    cat('Clustering','\\n')\n",
    "    y = reducedDim(sce.p, \"PCA\")[,1:15]\n",
    "    fit = SC.MEB(y, Adj_sp, beta_grid = beta_grid, K_set= K_set, parallel=parallel, num_core = num_core, PX = PX, maxIter_ICM=maxIter_ICM, maxIter=maxIter)\n",
    "    out = selectK(fit, K_set = K_set, criterion = \"BIC\")\n",
    "    label = out$best_K_label\n",
    "    row.names(label) = colnames(sce)\n",
    "    res = as.data.frame(label)\n",
    "\n",
    "    write.csv(res,save_dir)\n",
    "    }"
   ]
  },
  {
   "cell_type": "code",
   "execution_count": 2,
   "id": "b83ff9dd-6f8b-4c2f-948c-6af2a3f71b8d",
   "metadata": {
    "tags": []
   },
   "outputs": [
    {
     "name": "stdout",
     "output_type": "stream",
     "text": [
      "./recode/IMPUTEDLIBD/processed/151507.h5ad \n",
      " ./recode/IMPUTEDLIBD/processed/151507.seurat \n",
      " ./recode/IMPUTEDLIBD/SCMEB/151507_SCMEB.out.csv \n"
     ]
    },
    {
     "name": "stderr",
     "output_type": "stream",
     "text": [
      "\n",
      "Attaching package: ‘purrr’\n",
      "\n",
      "\n",
      "The following object is masked from ‘package:mclust’:\n",
      "\n",
      "    map\n",
      "\n",
      "\n",
      "The following object is masked from ‘package:GenomicRanges’:\n",
      "\n",
      "    reduce\n",
      "\n",
      "\n",
      "The following object is masked from ‘package:IRanges’:\n",
      "\n",
      "    reduce\n",
      "\n",
      "\n",
      "\n",
      "Attaching package: ‘Matrix’\n",
      "\n",
      "\n",
      "The following object is masked from ‘package:S4Vectors’:\n",
      "\n",
      "    expand\n",
      "\n",
      "\n",
      "Neighbors were identified for 0 out of 4226 spots.\n",
      "\n"
     ]
    },
    {
     "name": "stdout",
     "output_type": "stream",
     "text": [
      "Starting parallel computing..../recode/IMPUTEDLIBD/processed/151508.h5ad \n",
      " ./recode/IMPUTEDLIBD/processed/151508.seurat \n",
      " ./recode/IMPUTEDLIBD/SCMEB/151508_SCMEB.out.csv \n"
     ]
    },
    {
     "name": "stderr",
     "output_type": "stream",
     "text": [
      "Neighbors were identified for 0 out of 4384 spots.\n",
      "\n"
     ]
    },
    {
     "name": "stdout",
     "output_type": "stream",
     "text": [
      "Starting parallel computing..../recode/IMPUTEDLIBD/processed/151509.h5ad \n",
      " ./recode/IMPUTEDLIBD/processed/151509.seurat \n",
      " ./recode/IMPUTEDLIBD/SCMEB/151509_SCMEB.out.csv \n"
     ]
    },
    {
     "name": "stderr",
     "output_type": "stream",
     "text": [
      "Neighbors were identified for 0 out of 4789 spots.\n",
      "\n"
     ]
    },
    {
     "name": "stdout",
     "output_type": "stream",
     "text": [
      "Starting parallel computing..../recode/IMPUTEDLIBD/processed/151510.h5ad \n",
      " ./recode/IMPUTEDLIBD/processed/151510.seurat \n",
      " ./recode/IMPUTEDLIBD/SCMEB/151510_SCMEB.out.csv \n"
     ]
    },
    {
     "name": "stderr",
     "output_type": "stream",
     "text": [
      "Neighbors were identified for 0 out of 4634 spots.\n",
      "\n"
     ]
    },
    {
     "name": "stdout",
     "output_type": "stream",
     "text": [
      "Starting parallel computing..../recode/IMPUTEDLIBD/processed/151669.h5ad \n",
      " ./recode/IMPUTEDLIBD/processed/151669.seurat \n",
      " ./recode/IMPUTEDLIBD/SCMEB/151669_SCMEB.out.csv \n"
     ]
    },
    {
     "name": "stderr",
     "output_type": "stream",
     "text": [
      "Neighbors were identified for 0 out of 3661 spots.\n",
      "\n"
     ]
    },
    {
     "name": "stdout",
     "output_type": "stream",
     "text": [
      "Starting parallel computing..../recode/IMPUTEDLIBD/processed/151670.h5ad \n",
      " ./recode/IMPUTEDLIBD/processed/151670.seurat \n",
      " ./recode/IMPUTEDLIBD/SCMEB/151670_SCMEB.out.csv \n"
     ]
    },
    {
     "name": "stderr",
     "output_type": "stream",
     "text": [
      "Neighbors were identified for 0 out of 3498 spots.\n",
      "\n"
     ]
    },
    {
     "name": "stdout",
     "output_type": "stream",
     "text": [
      "Starting parallel computing..../recode/IMPUTEDLIBD/processed/151671.h5ad \n",
      " ./recode/IMPUTEDLIBD/processed/151671.seurat \n",
      " ./recode/IMPUTEDLIBD/SCMEB/151671_SCMEB.out.csv \n"
     ]
    },
    {
     "name": "stderr",
     "output_type": "stream",
     "text": [
      "Neighbors were identified for 0 out of 4110 spots.\n",
      "\n"
     ]
    },
    {
     "name": "stdout",
     "output_type": "stream",
     "text": [
      "Starting parallel computing..../recode/IMPUTEDLIBD/processed/151672.h5ad \n",
      " ./recode/IMPUTEDLIBD/processed/151672.seurat \n",
      " ./recode/IMPUTEDLIBD/SCMEB/151672_SCMEB.out.csv \n"
     ]
    },
    {
     "name": "stderr",
     "output_type": "stream",
     "text": [
      "Neighbors were identified for 0 out of 4015 spots.\n",
      "\n"
     ]
    },
    {
     "name": "stdout",
     "output_type": "stream",
     "text": [
      "Starting parallel computing..../recode/IMPUTEDLIBD/processed/151673.h5ad \n",
      " ./recode/IMPUTEDLIBD/processed/151673.seurat \n",
      " ./recode/IMPUTEDLIBD/SCMEB/151673_SCMEB.out.csv \n"
     ]
    },
    {
     "name": "stderr",
     "output_type": "stream",
     "text": [
      "Neighbors were identified for 0 out of 3639 spots.\n",
      "\n"
     ]
    },
    {
     "name": "stdout",
     "output_type": "stream",
     "text": [
      "Starting parallel computing..../recode/IMPUTEDLIBD/processed/151674.h5ad \n",
      " ./recode/IMPUTEDLIBD/processed/151674.seurat \n",
      " ./recode/IMPUTEDLIBD/SCMEB/151674_SCMEB.out.csv \n"
     ]
    },
    {
     "name": "stderr",
     "output_type": "stream",
     "text": [
      "Neighbors were identified for 0 out of 3673 spots.\n",
      "\n"
     ]
    },
    {
     "name": "stdout",
     "output_type": "stream",
     "text": [
      "Starting parallel computing..../recode/IMPUTEDLIBD/processed/151675.h5ad \n",
      " ./recode/IMPUTEDLIBD/processed/151675.seurat \n",
      " ./recode/IMPUTEDLIBD/SCMEB/151675_SCMEB.out.csv \n"
     ]
    },
    {
     "name": "stderr",
     "output_type": "stream",
     "text": [
      "Neighbors were identified for 0 out of 3592 spots.\n",
      "\n"
     ]
    },
    {
     "name": "stdout",
     "output_type": "stream",
     "text": [
      "Starting parallel computing..../recode/IMPUTEDLIBD/processed/151676.h5ad \n",
      " ./recode/IMPUTEDLIBD/processed/151676.seurat \n",
      " ./recode/IMPUTEDLIBD/SCMEB/151676_SCMEB.out.csv \n"
     ]
    },
    {
     "name": "stderr",
     "output_type": "stream",
     "text": [
      "Neighbors were identified for 0 out of 3460 spots.\n",
      "\n"
     ]
    },
    {
     "name": "stdout",
     "output_type": "stream",
     "text": [
      "Starting parallel computing..."
     ]
    }
   ],
   "source": [
    "for (data_id in c('151507','151508','151509','151510','151669','151670','151671','151672','151673','151674','151675','151676')){\n",
    "    \n",
    "    base_dir = paste0('./recode/IMPUTEDLIBD/processed/',data_id,'.h5ad')\n",
    "    seurat_dir = paste0('./recode/IMPUTEDLIBD/processed/',data_id,'.seurat')\n",
    "    sce_dir = paste0('./recode/IMPUTEDLIBD/processed/',data_id,'.sce')\n",
    "    save_dir = paste0('./recode/IMPUTEDLIBD/SCMEB/',data_id,'_SCMEB.out.csv')\n",
    "    cat(base_dir,'\\n',seurat_dir,'\\n',save_dir,'\\n')\n",
    "\n",
    "    # sceasy::convertFormat(base_dir, from=\"anndata\", to=\"seurat\",outFile=seurat_dir)\n",
    "    seurat.obj = readRDS(seurat_dir)\n",
    "    sce = readRDS(sce_dir)\n",
    "    # sceasy::convertFormat(seurat.obj, from=\"seurat\", to=\"sce\",outFile=sce_dir)\n",
    "    df = colData(sce)\n",
    "    df = cbind(df,reducedDim(sce))\n",
    "    colnames(df) = c(colnames(df)[1:3],'col','row')\n",
    "    sce@colData = df\n",
    "    spanve.out = seurat.obj@assays$RNA@meta.features\n",
    "    \n",
    "    Adj_sp  <- find_neighbors2(sce, platform = \"Visium\")\n",
    "    run_scmeb = function(y){\n",
    "        fit = SC.MEB(y, Adj_sp, beta_grid = beta_grid, K_set= K_set, parallel=parallel, num_core = num_core, PX = PX, maxIter_ICM=maxIter_ICM, maxIter=maxIter)\n",
    "        out = selectK(fit, K_set = K_set, criterion = \"BIC\")\n",
    "        label = out$best_K_label\n",
    "        row.names(label) = colnames(sce)\n",
    "        label\n",
    "    }\n",
    "    \n",
    "    result = c()\n",
    "    # ---------- Base Line\n",
    "    # sce.p <- spatialPreprocess(sce, platform=platform)\n",
    "    # y = reducedDim(sce.p, \"PCA\")[,1:15]\n",
    "    # result = c(result,list(baseline=run_scmeb(y)))\n",
    "    # --------- use Genes Direct\n",
    "#     sce.s = sce[spanve.out$spanve_spatial_features,]\n",
    "#     sce.sp = sce[spanve.out$spanve_spatial_features_pre,]\n",
    "    \n",
    "#     sce.s.p <- spatialPreprocess(sce.s, platform=platform)\n",
    "#     y = reducedDim(sce.s.p, \"PCA\")[,1:15]\n",
    "#     result = c(result,list(Genes=run_scmeb(y)))\n",
    "    \n",
    "#     sce.sp.p <- spatialPreprocess(sce.sp, platform=platform)\n",
    "#     y = reducedDim(sce.sp.p, \"PCA\")[,1:15]\n",
    "#     result = c(result,list(Genes_p=run_scmeb(y)))\n",
    "    \n",
    "#     # ------------ use impute\n",
    "#     y = reducedDim(sce, \"SPANVE.IMPUTED.PCA\")[,1:15]\n",
    "#     result = c(result,list(Imput=run_scmeb(y)))\n",
    "    \n",
    "    y = reducedDim(sce, \"SPANVE.IMPUTED.PCA.PRE\")[,1:15]\n",
    "    result = c(result,list(Imput_p=run_scmeb(y)))\n",
    "    \n",
    "    write.csv(as.data.frame(result),save_dir)\n",
    "}"
   ]
  },
  {
   "cell_type": "code",
   "execution_count": null,
   "id": "8ad675a6-e81b-45a1-9420-df834f3b3d02",
   "metadata": {},
   "outputs": [],
   "source": []
  }
 ],
 "metadata": {
  "kernelspec": {
   "display_name": "R",
   "language": "R",
   "name": "ir"
  },
  "language_info": {
   "codemirror_mode": "r",
   "file_extension": ".r",
   "mimetype": "text/x-r-source",
   "name": "R",
   "pygments_lexer": "r",
   "version": "4.1.3"
  }
 },
 "nbformat": 4,
 "nbformat_minor": 5
}
