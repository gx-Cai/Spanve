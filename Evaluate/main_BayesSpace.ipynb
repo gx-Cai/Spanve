{
 "cells": [
  {
   "cell_type": "markdown",
   "id": "7019922f-5e1d-4c93-b43f-31435e69f1b7",
   "metadata": {
    "tags": []
   },
   "source": [
    "# BayesSpace"
   ]
  },
  {
   "cell_type": "code",
   "execution_count": 1,
   "id": "d39dfc97-a516-4032-9834-a017fe74ae09",
   "metadata": {
    "collapsed": true,
    "jupyter": {
     "outputs_hidden": true
    },
    "tags": [],
    "vscode": {
     "languageId": "r"
    }
   },
   "outputs": [
    {
     "name": "stderr",
     "output_type": "stream",
     "text": [
      "Loading required package: SummarizedExperiment\n",
      "\n",
      "Loading required package: MatrixGenerics\n",
      "\n",
      "Loading required package: matrixStats\n",
      "\n",
      "\n",
      "Attaching package: ‘MatrixGenerics’\n",
      "\n",
      "\n",
      "The following objects are masked from ‘package:matrixStats’:\n",
      "\n",
      "    colAlls, colAnyNAs, colAnys, colAvgsPerRowSet, colCollapse,\n",
      "    colCounts, colCummaxs, colCummins, colCumprods, colCumsums,\n",
      "    colDiffs, colIQRDiffs, colIQRs, colLogSumExps, colMadDiffs,\n",
      "    colMads, colMaxs, colMeans2, colMedians, colMins, colOrderStats,\n",
      "    colProds, colQuantiles, colRanges, colRanks, colSdDiffs, colSds,\n",
      "    colSums2, colTabulates, colVarDiffs, colVars, colWeightedMads,\n",
      "    colWeightedMeans, colWeightedMedians, colWeightedSds,\n",
      "    colWeightedVars, rowAlls, rowAnyNAs, rowAnys, rowAvgsPerColSet,\n",
      "    rowCollapse, rowCounts, rowCummaxs, rowCummins, rowCumprods,\n",
      "    rowCumsums, rowDiffs, rowIQRDiffs, rowIQRs, rowLogSumExps,\n",
      "    rowMadDiffs, rowMads, rowMaxs, rowMeans2, rowMedians, rowMins,\n",
      "    rowOrderStats, rowProds, rowQuantiles, rowRanges, rowRanks,\n",
      "    rowSdDiffs, rowSds, rowSums2, rowTabulates, rowVarDiffs, rowVars,\n",
      "    rowWeightedMads, rowWeightedMeans, rowWeightedMedians,\n",
      "    rowWeightedSds, rowWeightedVars\n",
      "\n",
      "\n",
      "Loading required package: GenomicRanges\n",
      "\n",
      "Loading required package: stats4\n",
      "\n",
      "Loading required package: BiocGenerics\n",
      "\n",
      "\n",
      "Attaching package: ‘BiocGenerics’\n",
      "\n",
      "\n",
      "The following objects are masked from ‘package:stats’:\n",
      "\n",
      "    IQR, mad, sd, var, xtabs\n",
      "\n",
      "\n",
      "The following objects are masked from ‘package:base’:\n",
      "\n",
      "    anyDuplicated, append, as.data.frame, basename, cbind, colnames,\n",
      "    dirname, do.call, duplicated, eval, evalq, Filter, Find, get, grep,\n",
      "    grepl, intersect, is.unsorted, lapply, Map, mapply, match, mget,\n",
      "    order, paste, pmax, pmax.int, pmin, pmin.int, Position, rank,\n",
      "    rbind, Reduce, rownames, sapply, setdiff, sort, table, tapply,\n",
      "    union, unique, unsplit, which.max, which.min\n",
      "\n",
      "\n",
      "Loading required package: S4Vectors\n",
      "\n",
      "\n",
      "Attaching package: ‘S4Vectors’\n",
      "\n",
      "\n",
      "The following objects are masked from ‘package:base’:\n",
      "\n",
      "    expand.grid, I, unname\n",
      "\n",
      "\n",
      "Loading required package: IRanges\n",
      "\n",
      "Loading required package: GenomeInfoDb\n",
      "\n",
      "Loading required package: Biobase\n",
      "\n",
      "Welcome to Bioconductor\n",
      "\n",
      "    Vignettes contain introductory material; view with\n",
      "    'browseVignettes()'. To cite Bioconductor, see\n",
      "    'citation(\"Biobase\")', and for packages 'citation(\"pkgname\")'.\n",
      "\n",
      "\n",
      "\n",
      "Attaching package: ‘Biobase’\n",
      "\n",
      "\n",
      "The following object is masked from ‘package:MatrixGenerics’:\n",
      "\n",
      "    rowMedians\n",
      "\n",
      "\n",
      "The following objects are masked from ‘package:matrixStats’:\n",
      "\n",
      "    anyMissing, rowMedians\n",
      "\n",
      "\n",
      "Loading required package: ggplot2\n",
      "\n",
      "Loading required package: reticulate\n",
      "\n",
      "Attaching SeuratObject\n",
      "\n",
      "Attaching sp\n",
      "\n",
      "\n",
      "Attaching package: ‘Seurat’\n",
      "\n",
      "\n",
      "The following object is masked from ‘package:SummarizedExperiment’:\n",
      "\n",
      "    Assays\n",
      "\n",
      "\n"
     ]
    }
   ],
   "source": [
    "library(SingleCellExperiment)\n",
    "library(scuttle)\n",
    "library(scran)\n",
    "library(scater)\n",
    "library(BiocSingular)\n",
    "library(sceasy)\n",
    "library(Seurat)\n",
    "library(BayesSpace)"
   ]
  },
  {
   "cell_type": "code",
   "execution_count": 3,
   "id": "215efd9b-5ca3-458c-9e6f-bbce2238fb98",
   "metadata": {
    "tags": [],
    "vscode": {
     "languageId": "r"
    }
   },
   "outputs": [],
   "source": [
    "set.seed(101)\n",
    "for (data_id in c('151507','151508','151509','151510','151669','151670','151671','151672','151673','151674','151675','151676')){\n",
    "\n",
    "    sce_dir = paste0('./data/SpatialLIBD/',data_id,'.rds')\n",
    "    save_dir = paste0('./recode/IMPUTEDLIBD/BS/',data_id,'_base.out.csv')\n",
    "\n",
    "    sce = readRDS(sce_dir)\n",
    "\n",
    "    sce.p = spatialPreprocess(sce, platform=\"Visium\")\n",
    "    cat('Clustering','\\n')\n",
    "    sce.p = spatialCluster(sce.p, q=length(unique(sce$layer_guess_reordered)), d=15, platform='Visium', gamma=3)\n",
    "    \n",
    "    res = as.data.frame(sce.p$spatial.cluster)\n",
    "    row.names(res) = colnames(sce)\n",
    "    write.csv(res,save_dir)\n",
    "    }"
   ]
  },
  {
   "cell_type": "code",
   "execution_count": 11,
   "id": "ee094c64-15d4-4f1d-aba0-24acccc882df",
   "metadata": {
    "collapsed": true,
    "jupyter": {
     "outputs_hidden": true
    },
    "tags": [],
    "vscode": {
     "languageId": "r"
    }
   },
   "outputs": [
    {
     "name": "stdout",
     "output_type": "stream",
     "text": [
      "./recode/IMPUTEDLIBD/processed/151673.h5ad \n",
      " ./recode/IMPUTEDLIBD/processed/151673.seurat \n",
      " ./recode/IMPUTEDLIBD/BS/151673_BS.out.csv \n",
      "Clustering \n"
     ]
    },
    {
     "name": "stderr",
     "output_type": "stream",
     "text": [
      "Neighbors were identified for 0 out of 3639 spots.\n",
      "\n",
      "Fitting model...\n",
      "\n",
      "Calculating labels using iterations 1000 through 50000.\n",
      "\n"
     ]
    },
    {
     "name": "stdout",
     "output_type": "stream",
     "text": [
      "Clustering \n"
     ]
    },
    {
     "name": "stderr",
     "output_type": "stream",
     "text": [
      "Neighbors were identified for 0 out of 3639 spots.\n",
      "\n",
      "Fitting model...\n",
      "\n",
      "Calculating labels using iterations 1000 through 50000.\n",
      "\n"
     ]
    },
    {
     "name": "stdout",
     "output_type": "stream",
     "text": [
      "./recode/IMPUTEDLIBD/processed/151674.h5ad \n",
      " ./recode/IMPUTEDLIBD/processed/151674.seurat \n",
      " ./recode/IMPUTEDLIBD/BS/151674_BS.out.csv \n",
      "Clustering \n"
     ]
    },
    {
     "name": "stderr",
     "output_type": "stream",
     "text": [
      "Neighbors were identified for 0 out of 3673 spots.\n",
      "\n",
      "Fitting model...\n",
      "\n",
      "Calculating labels using iterations 1000 through 50000.\n",
      "\n"
     ]
    },
    {
     "name": "stdout",
     "output_type": "stream",
     "text": [
      "Clustering \n"
     ]
    },
    {
     "name": "stderr",
     "output_type": "stream",
     "text": [
      "Neighbors were identified for 0 out of 3673 spots.\n",
      "\n",
      "Fitting model...\n",
      "\n",
      "Calculating labels using iterations 1000 through 50000.\n",
      "\n"
     ]
    },
    {
     "name": "stdout",
     "output_type": "stream",
     "text": [
      "./recode/IMPUTEDLIBD/processed/151675.h5ad \n",
      " ./recode/IMPUTEDLIBD/processed/151675.seurat \n",
      " ./recode/IMPUTEDLIBD/BS/151675_BS.out.csv \n",
      "Clustering \n"
     ]
    },
    {
     "name": "stderr",
     "output_type": "stream",
     "text": [
      "Neighbors were identified for 0 out of 3592 spots.\n",
      "\n",
      "Fitting model...\n",
      "\n",
      "Calculating labels using iterations 1000 through 50000.\n",
      "\n"
     ]
    },
    {
     "name": "stdout",
     "output_type": "stream",
     "text": [
      "Clustering \n"
     ]
    },
    {
     "name": "stderr",
     "output_type": "stream",
     "text": [
      "Neighbors were identified for 0 out of 3592 spots.\n",
      "\n",
      "Fitting model...\n",
      "\n",
      "Calculating labels using iterations 1000 through 50000.\n",
      "\n"
     ]
    },
    {
     "name": "stdout",
     "output_type": "stream",
     "text": [
      "./recode/IMPUTEDLIBD/processed/151676.h5ad \n",
      " ./recode/IMPUTEDLIBD/processed/151676.seurat \n",
      " ./recode/IMPUTEDLIBD/BS/151676_BS.out.csv \n",
      "Clustering \n"
     ]
    },
    {
     "name": "stderr",
     "output_type": "stream",
     "text": [
      "Neighbors were identified for 0 out of 3460 spots.\n",
      "\n",
      "Fitting model...\n",
      "\n",
      "Calculating labels using iterations 1000 through 50000.\n",
      "\n"
     ]
    },
    {
     "name": "stdout",
     "output_type": "stream",
     "text": [
      "Clustering \n"
     ]
    },
    {
     "name": "stderr",
     "output_type": "stream",
     "text": [
      "Neighbors were identified for 0 out of 3460 spots.\n",
      "\n",
      "Fitting model...\n",
      "\n",
      "Calculating labels using iterations 1000 through 50000.\n",
      "\n"
     ]
    }
   ],
   "source": [
    "set.seed(101)\n",
    "for (data_id in c('151673','151674','151675','151676')){\n",
    "    # '151507','151508','151509','151510','151669','151670','151671','151672',\n",
    "    base_dir = paste0('./recode/IMPUTEDLIBD/processed/',data_id,'.h5ad')\n",
    "    seurat_dir = paste0('./recode/IMPUTEDLIBD/processed/',data_id,'.seurat')\n",
    "    sce_dir = paste0('./recode/IMPUTEDLIBD/processed/',data_id,'.sce')\n",
    "    save_dir = paste0('./recode/IMPUTEDLIBD/BS/',data_id,'_BS.out.csv')\n",
    "    cat(base_dir,'\\n',seurat_dir,'\\n',save_dir,'\\n')\n",
    "\n",
    "    # seurat.obj = readRDS(seurat_dir)\n",
    "    sce = readRDS(sce_dir)\n",
    "    # sceasy::convertFormat(seurat.obj, from=\"seurat\", to=\"sce\",outFile=sce_dir)\n",
    "    df = colData(sce)\n",
    "    df = cbind(df,reducedDim(sce))\n",
    "    colnames(df) = c(colnames(df)[1:3],'col','row')\n",
    "    sce@colData = df\n",
    "    # spanve.out = seurat.obj@assays$RNA@meta.features\n",
    "\n",
    "    cat('Clustering','\\n')\n",
    "    sce.i <- spatialCluster(sce, use.dimred='SPANVE.IMPUTED.PCA.PRE', q=length(unique(sce@colData$ground_truth)), d=15, platform='Visium', gamma=3)\n",
    "    sce.p = spatialPreprocess(sce, platform=\"Visium\")\n",
    "    cat('Clustering','\\n')\n",
    "    sce.p = spatialCluster(sce.p, q=length(unique(sce@colData$ground_truth)), d=15, platform='Visium', gamma=3)\n",
    "    \n",
    "    # sce@assays@data$logcounts = as(t(reducedDim(sce,'S.IMPUTE.PRE.ALL')),'dgCMatrix')\n",
    "    # sce.i2 = spatialPreprocess(sce, platform=\"Visium\",log.normalize = F)\n",
    "    # sce.i2 = spatialCluster(sce.i2, q=length(unique(sce@colData$ground_truth)), d=15, platform='Visium', gamma=3)\n",
    "    \n",
    "    res = as.data.frame(\n",
    "        list(\n",
    "            # spanve_i2=sce.i2$spatial.cluster,\n",
    "            spanve_i=sce.i$spatial.cluster,\n",
    "            base = sce.p$spatial.cluster)\n",
    "        )\n",
    "    write.csv(res,save_dir)\n",
    "    }"
   ]
  }
 ],
 "metadata": {
  "kernelspec": {
   "display_name": "R",
   "language": "R",
   "name": "ir"
  },
  "language_info": {
   "codemirror_mode": "r",
   "file_extension": ".r",
   "mimetype": "text/x-r-source",
   "name": "R",
   "pygments_lexer": "r",
   "version": "4.1.3"
  }
 },
 "nbformat": 4,
 "nbformat_minor": 5
}
