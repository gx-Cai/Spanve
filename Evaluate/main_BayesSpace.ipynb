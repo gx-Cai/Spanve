{
 "cells": [
  {
   "cell_type": "code",
   "execution_count": 1,
   "id": "744d8e6c-023d-4938-9de3-835cbb4c19d8",
   "metadata": {
    "execution": {
     "iopub.execute_input": "2024-02-29T02:41:36.994204Z",
     "iopub.status.busy": "2024-02-29T02:41:36.993249Z",
     "iopub.status.idle": "2024-02-29T02:42:10.924470Z",
     "shell.execute_reply": "2024-02-29T02:42:10.922998Z",
     "shell.execute_reply.started": "2024-02-29T02:41:36.994078Z"
    },
    "tags": [],
    "vscode": {
     "languageId": "r"
    }
   },
   "outputs": [
    {
     "name": "stderr",
     "output_type": "stream",
     "text": [
      "/tmp/ipykernel_16571/1070530140.py:17: DeprecationWarning: The global conversion available with activate() is deprecated and will be removed in the next major release. Use a local converter.\n",
      "  anndata2ri.activate()\n"
     ]
    }
   ],
   "source": [
    "import scanpy as sc\n",
    "import anndata2ri\n",
    "import os\n",
    "import logging\n",
    "import rpy2\n",
    "import rpy2.rinterface_lib.callbacks as rcb\n",
    "import rpy2.robjects as ro\n",
    "\n",
    "RHOME = \"/share/anaconda3/envs/SpaBench/lib/R\"\n",
    "RLIB = os.path.join(RHOME,'library')\n",
    "r = ro.r\n",
    "r(f'Sys.setenv(R_HOME = \\\"{RHOME}\\\")')\n",
    "r(f'.libPaths(\\\"{RLIB}\\\")')\n",
    "rcb.logger.setLevel(logging.ERROR)\n",
    "\n",
    "ro.pandas2ri.activate()\n",
    "anndata2ri.activate()\n",
    "\n",
    "%load_ext rpy2.ipython"
   ]
  },
  {
   "cell_type": "code",
   "execution_count": 9,
   "id": "efc77f1a-8ebe-433b-94b1-b4f3b5c48b21",
   "metadata": {
    "execution": {
     "iopub.execute_input": "2024-02-29T02:56:08.599169Z",
     "iopub.status.busy": "2024-02-29T02:56:08.598802Z",
     "iopub.status.idle": "2024-02-29T02:56:08.617999Z",
     "shell.execute_reply": "2024-02-29T02:56:08.616824Z",
     "shell.execute_reply.started": "2024-02-29T02:56:08.599124Z"
    },
    "scrolled": true,
    "tags": [],
    "vscode": {
     "languageId": "r"
    }
   },
   "outputs": [],
   "source": [
    "%%R -o run_bs_impute -o run_bs_base\n",
    "library(SingleCellExperiment)\n",
    "library(scuttle)\n",
    "library(scran)\n",
    "library(scater)\n",
    "library(BiocSingular)\n",
    "library(sceasy)\n",
    "library(Seurat)\n",
    "library(BayesSpace)\n",
    "\n",
    "run_bs_base <- function(sce, save_dir, q=NULL){\n",
    "    df = colData(sce)\n",
    "    df = cbind(df,reducedDim(sce))\n",
    "    colnames(df) = c(colnames(df)[1:3],'col','row')\n",
    "    sce@colData = df\n",
    "    \n",
    "    sce.p = spatialPreprocess(sce, platform=\"Visium\")\n",
    "    cat('Clustering','\\n')\n",
    "    if (is.null(q)){\n",
    "        q=length(unique(sce@colData$layer_guess_reordered))\n",
    "    }\n",
    "    sce@colData = df\n",
    "    sce.p = spatialCluster(sce.p, q=q, d=15, platform='Visium', gamma=3)\n",
    "    \n",
    "    res = as.data.frame(sce.p$spatial.cluster)\n",
    "    row.names(res) = colnames(sce)\n",
    "    write.csv(res,save_dir)\n",
    "}\n",
    "\n",
    "run_bs_impute <- function(sce, save_dir, use_rep='SPANVE.IMPUTED.PCA.PRE', q = NULL){\n",
    "    df = colData(sce)\n",
    "    df = cbind(df,reducedDim(sce))\n",
    "    colnames(df) = c(colnames(df)[1:3],'col','row')\n",
    "    sce@colData = df\n",
    "    if (is.null(q)){\n",
    "        q=length(unique(sce@colData$ground_truth))\n",
    "    }\n",
    "    cat('Clustering','\\n')\n",
    "    sce.i <- spatialCluster(sce, use.dimred=use_rep, q=q, d=15, platform='Visium', gamma=3)\n",
    "    # sce.p = spatialPreprocess(sce, platform=\"Visium\")\n",
    "    # cat('Clustering','\\n')\n",
    "    # sce.p = spatialCluster(sce.p, q=length(unique(sce@colData$ground_truth)), d=15, platform='Visium', gamma=3)\n",
    "\n",
    "    res = as.data.frame(sce.i$spatial.cluster)\n",
    "    row.names(res) = colnames(sce)\n",
    "    write.csv(res,save_dir)\n",
    "}"
   ]
  },
  {
   "cell_type": "markdown",
   "id": "ff094e3d-9416-408a-b88a-55afb8d0fdd3",
   "metadata": {
    "jp-MarkdownHeadingCollapsed": true,
    "tags": []
   },
   "source": [
    "## SpatialLIBD"
   ]
  },
  {
   "cell_type": "code",
   "execution_count": 3,
   "id": "4215774e-d811-4aee-90a2-75a8c0ad2651",
   "metadata": {
    "execution": {
     "iopub.execute_input": "2024-02-20T06:00:20.748387Z",
     "iopub.status.busy": "2024-02-20T06:00:20.748154Z",
     "iopub.status.idle": "2024-02-20T06:00:21.166400Z",
     "shell.execute_reply": "2024-02-20T06:00:21.165370Z",
     "shell.execute_reply.started": "2024-02-20T06:00:20.748357Z"
    },
    "tags": [],
    "vscode": {
     "languageId": "r"
    }
   },
   "outputs": [
    {
     "data": {
      "text/plain": [
       "AnnData object with n_obs × n_vars = 4226 × 15818\n",
       "    obs: 'n_genes', 'ground_truth'\n",
       "    var: 'n_cells', 'highly_variable', 'means', 'dispersions', 'dispersions_norm', 'n_counts'\n",
       "    uns: 'hvg', 'pca'\n",
       "    obsm: 'X_pca', 'cell_ranger.pca', 'moran.pca', 'p.spanve-k.imputated.pca', 'p.spanve-k.pca', 'spanve-k.imputated.pca', 'spanve-k.pca', 'spatial', 'spatialde.pca'\n",
       "    varm: 'PCs'\n",
       "    layers: 'counts'"
      ]
     },
     "execution_count": 3,
     "metadata": {},
     "output_type": "execute_result"
    }
   ],
   "source": [
    "adata = sc.read_h5ad('./recode/IMPUTEDLIBD/data/151507.h5ad')\n",
    "adata"
   ]
  },
  {
   "cell_type": "code",
   "execution_count": null,
   "id": "906ba3ed-2fea-42d3-9cf1-dfc7f4d48839",
   "metadata": {
    "collapsed": true,
    "execution": {
     "iopub.execute_input": "2024-02-20T06:41:11.010426Z",
     "iopub.status.busy": "2024-02-20T06:41:11.010025Z"
    },
    "jupyter": {
     "outputs_hidden": true
    },
    "tags": [],
    "vscode": {
     "languageId": "r"
    }
   },
   "outputs": [
    {
     "name": "stdout",
     "output_type": "stream",
     "text": [
      "Tue Feb 20 14:41:11 2024 151508.h5ad\n",
      "Tue Feb 20 14:41:11 2024 spanve-k.imputated.pca\n",
      "Clustering \n",
      "Tue Feb 20 15:35:03 2024 151509.h5ad\n",
      "Tue Feb 20 15:35:03 2024 spanve-k.imputated.pca\n",
      "Clustering \n",
      "Tue Feb 20 16:35:06 2024 151510.h5ad\n",
      "Tue Feb 20 16:35:07 2024 spanve-k.imputated.pca\n",
      "Clustering \n",
      "Tue Feb 20 17:42:03 2024 151670.h5ad\n",
      "Tue Feb 20 17:42:04 2024 spanve-k.imputated.pca\n",
      "Clustering \n",
      "Tue Feb 20 18:25:22 2024 151671.h5ad\n",
      "Tue Feb 20 18:25:23 2024 spanve-k.imputated.pca\n",
      "Clustering \n",
      "Tue Feb 20 19:16:27 2024 151672.h5ad\n",
      "Tue Feb 20 19:16:27 2024 spanve-k.pca\n",
      "Clustering \n",
      "Tue Feb 20 20:12:19 2024 p.spanve-k.pca\n",
      "Clustering \n",
      "Tue Feb 20 21:02:03 2024 spanve-k.imputated.pca\n",
      "Clustering \n",
      "Tue Feb 20 21:52:17 2024 151674.h5ad\n",
      "Tue Feb 20 21:52:17 2024 spanve-k.pca\n",
      "Clustering \n",
      "Tue Feb 20 22:56:05 2024 p.spanve-k.pca\n",
      "Clustering \n",
      "Tue Feb 20 23:52:15 2024 spanve-k.imputated.pca\n",
      "Clustering \n",
      "Wed Feb 21 01:44:55 2024 151675.h5ad\n",
      "Wed Feb 21 01:44:55 2024 spanve-k.pca\n",
      "Clustering \n",
      "Wed Feb 21 02:29:17 2024 p.spanve-k.pca\n",
      "Clustering \n",
      "Wed Feb 21 03:13:07 2024 spanve-k.imputated.pca\n",
      "Clustering \n",
      "Wed Feb 21 03:56:19 2024 151676.h5ad\n",
      "Wed Feb 21 03:56:20 2024 spanve-k.pca\n",
      "Clustering \n",
      "Wed Feb 21 04:37:49 2024 p.spanve-k.pca\n",
      "Clustering \n",
      "Wed Feb 21 05:19:22 2024 spanve-k.imputated.pca\n",
      "Clustering \n",
      "Wed Feb 21 06:00:57 2024 151507.h5ad\n",
      "Wed Feb 21 06:00:57 2024 spanve-k.pca\n",
      "Clustering \n",
      "Wed Feb 21 06:51:45 2024 p.spanve-k.pca\n",
      "Clustering \n",
      "Wed Feb 21 07:42:26 2024 spanve-k.imputated.pca\n",
      "Clustering \n",
      "Wed Feb 21 08:33:06 2024 151669.h5ad\n",
      "Wed Feb 21 08:33:06 2024 spanve-k.pca\n",
      "Clustering \n"
     ]
    }
   ],
   "source": [
    "import time\n",
    "data_dir = './recode/IMPUTEDLIBD/data/'\n",
    "result_dir = './recode/IMPUTEDLIBD/BS/'\n",
    "\n",
    "for file in os.listdir(data_dir):\n",
    "    print(time.ctime(),file)\n",
    "    file_dir = os.path.join(data_dir, file)\n",
    "    adata = sc.read_h5ad(file_dir)\n",
    "    adata.layers['counts'] = adata.X.copy()\n",
    "    for use_rep in ['spanve-k.pca', 'p.spanve-k.pca', 'spanve-k.imputated.pca']:\n",
    "        save_file_dir = os.path.join(result_dir,f'{use_rep}_{file.split(\".\")[0]}.csv')\n",
    "        if os.path.exists(save_file_dir): continue\n",
    "        print(time.ctime(), use_rep)\n",
    "        run_bs_impute(adata, save_file_dir, use_rep)"
   ]
  },
  {
   "cell_type": "markdown",
   "id": "e5ebeec1-aa42-4a97-902d-96478bf45704",
   "metadata": {},
   "source": [
    "## Invasive indutal Breast Cancer"
   ]
  },
  {
   "cell_type": "code",
   "execution_count": 10,
   "id": "b5354abb-a027-42be-8124-ad6c0fdd1ec1",
   "metadata": {
    "execution": {
     "iopub.execute_input": "2024-02-29T02:56:11.556281Z",
     "iopub.status.busy": "2024-02-29T02:56:11.555913Z",
     "iopub.status.idle": "2024-02-29T02:59:04.434219Z",
     "shell.execute_reply": "2024-02-29T02:59:04.432705Z",
     "shell.execute_reply.started": "2024-02-29T02:56:11.556235Z"
    },
    "tags": [],
    "vscode": {
     "languageId": "r"
    }
   },
   "outputs": [],
   "source": [
    "import pandas as pd\n",
    "import numpy as np\n",
    "import scanpy as sc\n",
    "import os\n",
    "# import sklearn\n",
    "# import matplotlib.pyplot as plt\n",
    "# import seaborn as sns\n",
    "# import squidpy as sq\n",
    "# import sys\n",
    "# sys.path.append('./Softs/')\n",
    "# import Spanve_beta\n",
    "# print(Spanve_beta.__version__)\n",
    "# from Spanve_beta import *\n",
    "\n",
    "# svmodel = Spanve(adata)\n",
    "# svmodel.load('./data/Spanve_Human_breas_cancer.csv')\n",
    "# adata.obsm['normalized_pca'] = sc.pp.pca(adata.layers['normalized'])\n",
    "# adata.obsm['imputated_pca'] = sc.pp.pca(adata[:, adata.var.query('spanve_spatial_features').index].layers['imputated'])"
   ]
  },
  {
   "cell_type": "code",
   "execution_count": null,
   "id": "fc297da7-f572-4ba0-9fd8-1e4db7e47129",
   "metadata": {
    "execution": {
     "iopub.execute_input": "2024-02-29T03:01:21.517429Z",
     "iopub.status.busy": "2024-02-29T03:01:21.516458Z",
     "iopub.status.idle": "2024-02-29T03:01:39.315766Z",
     "shell.execute_reply": "2024-02-29T03:01:39.314454Z",
     "shell.execute_reply.started": "2024-02-29T03:01:21.517372Z"
    },
    "tags": [],
    "vscode": {
     "languageId": "r"
    }
   },
   "outputs": [],
   "source": [
    "adata = sc.datasets.visium_sge('Visium_Human_Breast_Cancer')\n",
    "sc.pp.filter_genes(adata, min_cells=10)\n",
    "adata.var_names_make_unique()\n",
    "adata.layers['counts'] = adata.X.copy()\n",
    "run_bs_base(adata, './recode/BreastCancer/base_BayesSpace.csv', q = 7)\n",
    "result_dir = './recode/BreastCancer/'\n",
    "\n",
    "for use_rep in ['normalized_pca', 'imputated_pca']:\n",
    "    print(time.ctime(),use_rep)\n",
    "    save_file_dir = os.path.join(result_dir,f'{use_rep}_BayesSpace.csv')\n",
    "    if os.path.exists(save_file_dir): continue\n",
    "    run_bs_impute(adata, save_file_dir, use_rep, q = 8)"
   ]
  }
 ],
 "metadata": {
  "kernelspec": {
   "display_name": "R",
   "language": "R",
   "name": "ir"
  },
  "language_info": {
   "codemirror_mode": {
    "name": "ipython",
    "version": 3
   },
   "file_extension": ".py",
   "mimetype": "text/x-python",
   "name": "R",
   "nbconvert_exporter": "python",
   "pygments_lexer": "ipython3",
   "version": "3.9.13"
  }
 },
 "nbformat": 4,
 "nbformat_minor": 5
}
