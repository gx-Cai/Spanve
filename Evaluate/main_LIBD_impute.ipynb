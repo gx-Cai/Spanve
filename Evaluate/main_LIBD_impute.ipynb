{
 "cells": [
  {
   "cell_type": "code",
   "execution_count": 1,
   "id": "ecd180fd-3b0e-4b96-9961-be4b228d77b0",
   "metadata": {
    "execution": {
     "iopub.execute_input": "2024-02-20T03:39:22.537503Z",
     "iopub.status.busy": "2024-02-20T03:39:22.537027Z",
     "iopub.status.idle": "2024-02-20T03:39:26.957411Z",
     "shell.execute_reply": "2024-02-20T03:39:26.956234Z",
     "shell.execute_reply.started": "2024-02-20T03:39:22.537375Z"
    },
    "tags": []
   },
   "outputs": [
    {
     "name": "stdout",
     "output_type": "stream",
     "text": [
      "0.1.4_beta\n"
     ]
    }
   ],
   "source": [
    "import sys\n",
    "sys.path.append('./Softs/')\n",
    "import Spanve_beta as Spanve\n",
    "print(Spanve.__version__)\n",
    "from Spanve_beta import *\n",
    "import os\n",
    "import scanpy as sc\n",
    "save_dir = './recode/IMPUTEDLIBD/data/'\n",
    "data_dirs = './data/SpatialLIBD/'\n",
    "data_ids = [file for file in os.listdir(data_dirs) if file.endswith('.h5ad')]"
   ]
  },
  {
   "cell_type": "code",
   "execution_count": 2,
   "id": "39279db8-b282-4a75-acb0-fcfe2ddada49",
   "metadata": {
    "execution": {
     "iopub.execute_input": "2024-02-20T03:39:26.959089Z",
     "iopub.status.busy": "2024-02-20T03:39:26.958926Z",
     "iopub.status.idle": "2024-02-20T03:39:26.969891Z",
     "shell.execute_reply": "2024-02-20T03:39:26.968932Z",
     "shell.execute_reply.started": "2024-02-20T03:39:26.959068Z"
    },
    "tags": []
   },
   "outputs": [],
   "source": [
    "from collections import defaultdict\n",
    "import os\n",
    "import pandas as pd\n",
    "import numpy as np\n",
    "import scanpy as sc\n",
    "from statsmodels.stats.multitest import multipletests\n",
    "\n",
    "softs = [\n",
    "    'spanve-k','spanve-d',\n",
    "    'somde','moran','geary',\n",
    "    'r-sparkx','r-gitto-rank','sepal',\n",
    "    'r-gitto-sirank','spatialde','p.spanve-k','p.spanve-d', 'cell_ranger'\n",
    "]\n",
    "    \n",
    "index_cols = defaultdict(int)\n",
    "index_cols.update({\n",
    "    \"r-gitto-rank\":1,\n",
    "    'r-gitto-sirank':1,\n",
    "    'somde':3,\n",
    "    'spatialde':3,\n",
    "})\n",
    "\n",
    "p_use_columns = {\n",
    "    \"geary\":\"pval_norm_fdr_bh\",\n",
    "    \"moran\":\"pval_norm_fdr_bh\",\n",
    "    \"r-gitto-rank\":\"adj.p.value\",\n",
    "    \"r-sparkx\":\"adjustedPval\",\n",
    "    'somde':'qval',\n",
    "    'spatialde':'qval',\n",
    "    'spanve-d':'fdrs',\n",
    "    'spanve-k':'fdrs',\n",
    "    'p.spanve-d':'fdrs',\n",
    "    'p.spanve-k':'fdrs'\n",
    "}\n",
    "score_use_columns = {\n",
    "    'r-gitto-sirank':'scores',\n",
    "    'sepal':'average',\n",
    "    'cell_ranger':'dispersions_norm'\n",
    "}\n",
    "\n",
    "\n",
    "result_dir = \"./recode/SpatialLIBD/\"\n",
    "# data_ids = os.listdir(result_dir)\n",
    "\n",
    "def parse_file(data_dir,soft):\n",
    "    path = os.path.join(result_dir,data_dir,soft)\n",
    "    try:\n",
    "        file = [i for i in os.listdir(path) if i.endswith('csv')][0]\n",
    "    except:\n",
    "        print(data_dir,soft,'have no result file.')\n",
    "        return None\n",
    "    file = os.path.join(path,file)\n",
    "    if soft not in p_use_columns:\n",
    "        use_col = score_use_columns[soft]\n",
    "    elif soft in p_use_columns:\n",
    "        use_col = p_use_columns[soft]\n",
    "    else: print(soft)\n",
    "        \n",
    "    df = pd.read_csv(file,index_col=index_cols[soft])\n",
    "    if soft in ['moran','geary']:\n",
    "        _0, fdrs, _1, _2, = multipletests(df['pval_norm'].fillna(1), method='fdr_bh')\n",
    "        df[use_col] = fdrs\n",
    "    df = df[use_col]\n",
    "    df.index.name = 'genes'\n",
    "    df = df.reset_index().groupby(by='genes').mean().iloc[:,0]\n",
    "    df.name = soft\n",
    "    return df"
   ]
  },
  {
   "cell_type": "code",
   "execution_count": 3,
   "id": "5b65bc65-a727-4bae-b248-c80964a62c62",
   "metadata": {
    "execution": {
     "iopub.execute_input": "2024-02-20T03:39:26.971069Z",
     "iopub.status.busy": "2024-02-20T03:39:26.970921Z",
     "iopub.status.idle": "2024-02-20T03:43:49.914057Z",
     "shell.execute_reply": "2024-02-20T03:43:49.913088Z",
     "shell.execute_reply.started": "2024-02-20T03:39:26.971051Z"
    },
    "tags": []
   },
   "outputs": [
    {
     "name": "stderr",
     "output_type": "stream",
     "text": [
      "running spanve impatation at p.spanve-k: 100%|██████████| 12/12 [04:22<00:00, 21.91s/it]\n"
     ]
    }
   ],
   "source": [
    "from tqdm import tqdm\n",
    "import warnings\n",
    "warnings.filterwarnings('ignore')\n",
    "\n",
    "get_genes_thres = lambda s: s.index[s < 0.05]\n",
    "\n",
    "bar = tqdm(total=len(data_ids))\n",
    "\n",
    "for data_id in data_ids:\n",
    "    bar.set_description_str(f'read and process data @{data_id}')\n",
    "    \n",
    "    adata = sc.read_h5ad(os.path.join(data_dirs,data_id))\n",
    "    # pre_adata = adata_preprocess_int(adata)\n",
    "    # row_counts = adata.X.copy()\n",
    "    adata.layers['counts'] = adata.X.copy()\n",
    "    # pre_X = adata_preprocess(adata).X\n",
    "    sc.pp.normalize_total(adata)\n",
    "    sc.pp.log1p(adata)\n",
    "    \n",
    "    bar.set_description_str(f'running other methods and impute(pca)')\n",
    "    sc.pp.highly_variable_genes(adata, flavor='cell_ranger')\n",
    "    # sc.pp.scale(adata)\n",
    "    \n",
    "    sc.pp.pca(adata, use_highly_variable=True)\n",
    "    adata.obsm['cell_ranger.pca'] = adata.obsm['X_pca'].copy()\n",
    "    \n",
    "    genes_dict = dict()\n",
    "    for method in ['moran','spatialde','spanve-k','p.spanve-k']:\n",
    "        bar.set_description_str(f'running pca impatation at {method}')\n",
    "        genes_dict[method] = get_genes_thres(parse_file(data_id,method))\n",
    "        adata.obsm[f'{method}.pca'] = sc.pp.pca(adata[:, genes_dict[method]].X)\n",
    "    \n",
    "    # spanve imputation\n",
    "    pre_X = adata.X.copy()\n",
    "    del adata.uns['log1p']\n",
    "    adata.X = adata.layers['counts'].copy()\n",
    "    model = Spanve(adata,verbose=False)\n",
    "    model.finding_spatial_neibors(model.K)\n",
    "    model.nodist_hypoth(model.X)\n",
    "    for method in ['spanve-k','p.spanve-k']:\n",
    "        bar.set_description_str(f'running spanve impatation at {method}')\n",
    "        psedo_reject = adata.var_names.isin(genes_dict[method])\n",
    "        graph = model.build_sample_graph_from_svgenes(select = psedo_reject)\n",
    "        Xi = model.impute_from_graph(X = pre_X[:,psedo_reject], graph = graph)\n",
    "        adata.obsm[f'{method}.imputated.pca'] = sc.pp.pca(Xi)\n",
    "\n",
    "    adata.var = adata.var.fillna(False)\n",
    "    adata.write_h5ad(os.path.join(save_dir, data_id))\n",
    "    bar.update(1)\n",
    "    \n",
    "bar.close()"
   ]
  },
  {
   "cell_type": "code",
   "execution_count": null,
   "id": "f2e1ef65-fe0f-4f5d-a831-23e649e53c25",
   "metadata": {},
   "outputs": [],
   "source": []
  }
 ],
 "metadata": {
  "kernelspec": {
   "display_name": "Python 3 (ipykernel)",
   "language": "python",
   "name": "python3"
  },
  "language_info": {
   "codemirror_mode": {
    "name": "ipython",
    "version": 3
   },
   "file_extension": ".py",
   "mimetype": "text/x-python",
   "name": "python",
   "nbconvert_exporter": "python",
   "pygments_lexer": "ipython3",
   "version": "3.9.13"
  }
 },
 "nbformat": 4,
 "nbformat_minor": 5
}
