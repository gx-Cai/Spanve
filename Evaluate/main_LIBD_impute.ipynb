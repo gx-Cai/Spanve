{
 "cells": [
  {
   "cell_type": "code",
   "execution_count": 41,
   "id": "c760137e-f84e-4ec8-819e-5a389a76eb73",
   "metadata": {},
   "outputs": [],
   "source": [
    "from Softs.Spanve import *\n",
    "import os\n",
    "\n",
    "save_dir = './recode/IMPUTEDLIBD/'\n",
    "data_dirs = './data/SpatialLIBD/'\n",
    "data_ids = [file for file in os.listdir(data_dirs) if file.endswith('.h5ad')]\n",
    "\n",
    "import time\n",
    "import warnings\n",
    "warnings.filterwarnings('ignore')\n",
    "for data_id in data_ids:\n",
    "    print(time.ctime(),data_id)\n",
    "    adata = sc.read_h5ad(os.path.join(data_dirs,data_id))\n",
    "    row_counts = adata.X \n",
    "    pre_adata = adata_preprocess(adata)\n",
    "    \n",
    "    for preprocessed_int in [False,True]:\n",
    "        \n",
    "        if preprocessed_int:\n",
    "            adata = adata_preprocess_int(adata)\n",
    "        \n",
    "        model = Spanve(adata,verbose=True)\n",
    "\n",
    "        model.fit()\n",
    "        \n",
    "        Xi = model.impute_from_graph(X=pre_adata.X[:,model.rejects])\n",
    "        model.adata.obsm['spanve.imputed'] = Xi\n",
    "        model.adata.obsm['spanve.imputed.pca'] = sc.pp.pca(Xi)\n",
    "        \n",
    "        model.adata.X = row_counts\n",
    "        \n",
    "        model.adata.write_h5ad(\n",
    "            os.path.join(save_dir,'processed',f\"{data_id}{['','_pre'][preprocessed_int]}\")\n",
    "        )\n",
    "        \n",
    "# merge the imputed data from same data\n",
    "for data_id in data_ids:\n",
    "    adata1 = sc.read_h5ad(os.path.join(save_dir,f\"{data_id}\"))\n",
    "    adata2 = sc.read_h5ad(os.path.join(save_dir,f\"{data_id}_pre\"))\n",
    "    adata1.var.columns = ['n_cells','spanve_spatial_features']\n",
    "    adata1.var['spanve_spatial_features_pre'] = adata2.var['span_spatial_features']\n",
    "    adata1.obsm['spanve.imputed.pre'] = adata2.obsm['spanve.imputed']\n",
    "    adata1.obsm['spanve.imputed.pca.pre'] = adata2.obsm['spanve.imputed.pca']\n",
    "    adata1.write_h5ad(os.path.join(save_dir,f\"{data_id}\"))"
   ]
  }
 ],
 "metadata": {
  "kernelspec": {
   "display_name": "Python 3.9.7 ('base')",
   "language": "python",
   "name": "python3"
  },
  "language_info": {
   "codemirror_mode": {
    "name": "ipython",
    "version": 3
   },
   "file_extension": ".py",
   "mimetype": "text/x-python",
   "name": "python",
   "nbconvert_exporter": "python",
   "pygments_lexer": "ipython3",
   "version": "3.9.7"
  },
  "vscode": {
   "interpreter": {
    "hash": "ad2bdc8ecc057115af97d19610ffacc2b4e99fae6737bb82f5d7fb13d2f2c186"
   }
  }
 },
 "nbformat": 4,
 "nbformat_minor": 5
}
