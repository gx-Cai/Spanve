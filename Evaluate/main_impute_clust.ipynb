{
 "cells": [
  {
   "cell_type": "code",
   "execution_count": 1,
   "id": "b10af559-5374-47ad-85e5-70826003777f",
   "metadata": {
    "execution": {
     "iopub.execute_input": "2024-02-20T04:43:09.887401Z",
     "iopub.status.busy": "2024-02-20T04:43:09.886817Z",
     "iopub.status.idle": "2024-02-20T04:43:19.691380Z",
     "shell.execute_reply": "2024-02-20T04:43:19.690269Z",
     "shell.execute_reply.started": "2024-02-20T04:43:09.887243Z"
    },
    "tags": []
   },
   "outputs": [
    {
     "name": "stderr",
     "output_type": "stream",
     "text": [
      "Intel(R) Extension for Scikit-learn* enabled (https://github.com/intel/scikit-learn-intelex)\n"
     ]
    }
   ],
   "source": [
    "import pandas as pd\n",
    "import numpy as np\n",
    "import sklearnex\n",
    "sklearnex.patch_sklearn()\n",
    "import sklearn\n",
    "from sklearn.metrics import adjusted_rand_score as ari\n",
    "from sklearn.metrics import adjusted_mutual_info_score as ami\n",
    "\n",
    "import scanpy as sc\n",
    "import os"
   ]
  },
  {
   "cell_type": "markdown",
   "id": "802f0946-7893-4ed2-ad3e-3aa1f865e803",
   "metadata": {
    "jp-MarkdownHeadingCollapsed": true,
    "tags": []
   },
   "source": [
    "# K-means"
   ]
  },
  {
   "cell_type": "code",
   "execution_count": 3,
   "id": "2f20234f-58d2-4b6b-af90-70c5495f845f",
   "metadata": {
    "execution": {
     "iopub.execute_input": "2024-02-20T03:43:59.854307Z",
     "iopub.status.busy": "2024-02-20T03:43:59.854149Z",
     "iopub.status.idle": "2024-02-20T03:45:59.436918Z",
     "shell.execute_reply": "2024-02-20T03:45:59.436191Z",
     "shell.execute_reply.started": "2024-02-20T03:43:59.854287Z"
    },
    "scrolled": true,
    "tags": []
   },
   "outputs": [
    {
     "name": "stderr",
     "output_type": "stream",
     "text": [
      "100%|██████████| 12/12 [01:59<00:00,  9.96s/it]\n"
     ]
    }
   ],
   "source": [
    "from Spanve import *\n",
    "from tqdm import tqdm\n",
    "import warnings\n",
    "warnings.filterwarnings('ignore')\n",
    "recoder = pd.DataFrame(columns = ['data','ari','ami','pre_type','clust_method'])\n",
    "\n",
    "data_dir = './recode/IMPUTEDLIBD/data/'\n",
    "data_ids = [i for i in os.listdir(data_dir) if i.endswith('.h5ad')]\n",
    "\n",
    "for data_id in tqdm(data_ids):\n",
    "    adata_raw = sc.read_h5ad(\n",
    "        os.path.join(data_dir,data_id)\n",
    "    )\n",
    "    \n",
    "    ground = adata_raw.obs['ground_truth']\n",
    "    adata_pre = adata_preprocess(adata_raw)\n",
    "    \n",
    "    for pre_type in ['raw','cell_ranger.pca', 'p.spanve-k.imputated.pca', 'p.spanve-k.pca', #'spanve-k.imputated.pca', 'spanve-k.pca'\n",
    "                     ]:\n",
    "\n",
    "        if pre_type == 'raw':\n",
    "            adata = adata_pre.copy()\n",
    "            sc.pp.pca(adata)\n",
    "            X = adata.obsm['X_pca']\n",
    "        else:\n",
    "            X = adata_raw.obsm[pre_type]\n",
    "            \n",
    "        cluster = AutoCluster()\n",
    "        label = pd.Series(cluster.fit_predict(X),index=adata.obs_names)\n",
    "        recoder.loc[len(recoder),:] = data_id,ari(ground,label),ami(ground,label),pre_type,'KMeans'"
   ]
  },
  {
   "cell_type": "code",
   "execution_count": 5,
   "id": "4041c84f-89a8-49c1-9beb-9ad97bd49d2f",
   "metadata": {
    "execution": {
     "iopub.execute_input": "2024-02-20T03:46:35.550539Z",
     "iopub.status.busy": "2024-02-20T03:46:35.550143Z",
     "iopub.status.idle": "2024-02-20T03:46:35.669761Z",
     "shell.execute_reply": "2024-02-20T03:46:35.668640Z",
     "shell.execute_reply.started": "2024-02-20T03:46:35.550489Z"
    },
    "tags": []
   },
   "outputs": [],
   "source": [
    "recoder.to_csv('./recode/IMPUTEDLIBD/KM.res.csv')"
   ]
  },
  {
   "cell_type": "markdown",
   "id": "8b1d8882-a82d-40de-a8f2-35ea46ec82b6",
   "metadata": {
    "tags": []
   },
   "source": [
    "# Leiden"
   ]
  },
  {
   "cell_type": "code",
   "execution_count": 3,
   "id": "635dfadb-771d-4ea3-afb2-5c8bcfcdc787",
   "metadata": {
    "execution": {
     "iopub.execute_input": "2024-02-20T04:43:20.216981Z",
     "iopub.status.busy": "2024-02-20T04:43:20.216764Z",
     "iopub.status.idle": "2024-02-20T04:43:20.224024Z",
     "shell.execute_reply": "2024-02-20T04:43:20.223354Z",
     "shell.execute_reply.started": "2024-02-20T04:43:20.216952Z"
    },
    "tags": []
   },
   "outputs": [],
   "source": [
    "import leidenalg\n",
    "import numpy as np\n",
    "import pandas as pd\n",
    "from scanpy import _utils\n",
    "from natsort import natsorted\n",
    "\n",
    "def search_resolution_leiden(adata, use_weights=True, resolution_search=np.linspace(0.5,1.5,10), iterations=-1):\n",
    "    g = _utils.get_igraph_from_adjacency(adata.obsp['connectivities'], directed=True)\n",
    "    weights = None\n",
    "    if use_weights:\n",
    "        weights = np.array(g.es[\"weight\"]).astype(np.float64)\n",
    "    best_quality = 0\n",
    "    for r in resolution_search:\n",
    "        part = leidenalg.find_partition(\n",
    "            g, leidenalg.RBConfigurationVertexPartition, \n",
    "            resolution_parameter = r, weights = weights, \n",
    "            n_iterations = iterations,\n",
    "        )\n",
    "        q = part.quality()\n",
    "        if q > best_quality:\n",
    "            best_quality = q\n",
    "            best_r = r\n",
    "    return best_r"
   ]
  },
  {
   "cell_type": "code",
   "execution_count": 4,
   "id": "74e0d840-53fe-441b-8e1b-e6bed8ee7dc6",
   "metadata": {
    "collapsed": true,
    "execution": {
     "iopub.execute_input": "2024-02-20T04:43:20.225961Z",
     "iopub.status.busy": "2024-02-20T04:43:20.225766Z",
     "iopub.status.idle": "2024-02-20T04:55:26.185678Z",
     "shell.execute_reply": "2024-02-20T04:55:26.184786Z",
     "shell.execute_reply.started": "2024-02-20T04:43:20.225936Z"
    },
    "jupyter": {
     "outputs_hidden": true
    },
    "scrolled": true,
    "tags": []
   },
   "outputs": [
    {
     "name": "stderr",
     "output_type": "stream",
     "text": [
      "  0%|          | 0/12 [00:00<?, ?it/s]/share/anaconda3/envs/SpaBench/lib/python3.9/site-packages/umap/distances.py:1063: NumbaDeprecationWarning: \u001b[1mThe 'nopython' keyword argument was not supplied to the 'numba.jit' decorator. The implicit default value for this argument is currently False, but it will be changed to True in Numba 0.59.0. See https://numba.readthedocs.io/en/stable/reference/deprecation.html#deprecation-of-object-mode-fall-back-behaviour-when-using-jit for details.\u001b[0m\n",
      "  @numba.jit()\n",
      "/share/anaconda3/envs/SpaBench/lib/python3.9/site-packages/umap/distances.py:1071: NumbaDeprecationWarning: \u001b[1mThe 'nopython' keyword argument was not supplied to the 'numba.jit' decorator. The implicit default value for this argument is currently False, but it will be changed to True in Numba 0.59.0. See https://numba.readthedocs.io/en/stable/reference/deprecation.html#deprecation-of-object-mode-fall-back-behaviour-when-using-jit for details.\u001b[0m\n",
      "  @numba.jit()\n",
      "/share/anaconda3/envs/SpaBench/lib/python3.9/site-packages/umap/distances.py:1086: NumbaDeprecationWarning: \u001b[1mThe 'nopython' keyword argument was not supplied to the 'numba.jit' decorator. The implicit default value for this argument is currently False, but it will be changed to True in Numba 0.59.0. See https://numba.readthedocs.io/en/stable/reference/deprecation.html#deprecation-of-object-mode-fall-back-behaviour-when-using-jit for details.\u001b[0m\n",
      "  @numba.jit()\n",
      "/share/anaconda3/envs/SpaBench/lib/python3.9/site-packages/tqdm/auto.py:22: TqdmWarning: IProgress not found. Please update jupyter and ipywidgets. See https://ipywidgets.readthedocs.io/en/stable/user_install.html\n",
      "  from .autonotebook import tqdm as notebook_tqdm\n",
      "/share/anaconda3/envs/SpaBench/lib/python3.9/site-packages/pynndescent/utils.py:202: NumbaDeprecationWarning: \u001b[1mThe 'nopython' keyword argument was not supplied to the 'numba.jit' decorator. The implicit default value for this argument is currently False, but it will be changed to True in Numba 0.59.0. See https://numba.readthedocs.io/en/stable/reference/deprecation.html#deprecation-of-object-mode-fall-back-behaviour-when-using-jit for details.\u001b[0m\n",
      "  @numba.jit(\n",
      "/share/anaconda3/envs/SpaBench/lib/python3.9/site-packages/pynndescent/utils.py:302: NumbaDeprecationWarning: \u001b[1mThe 'nopython' keyword argument was not supplied to the 'numba.jit' decorator. The implicit default value for this argument is currently False, but it will be changed to True in Numba 0.59.0. See https://numba.readthedocs.io/en/stable/reference/deprecation.html#deprecation-of-object-mode-fall-back-behaviour-when-using-jit for details.\u001b[0m\n",
      "  @numba.jit(\n",
      "/share/anaconda3/envs/SpaBench/lib/python3.9/site-packages/umap/umap_.py:660: NumbaDeprecationWarning: \u001b[1mThe 'nopython' keyword argument was not supplied to the 'numba.jit' decorator. The implicit default value for this argument is currently False, but it will be changed to True in Numba 0.59.0. See https://numba.readthedocs.io/en/stable/reference/deprecation.html#deprecation-of-object-mode-fall-back-behaviour-when-using-jit for details.\u001b[0m\n",
      "  @numba.jit()\n",
      "2024-02-20 12:43:26.679054: I tensorflow/core/platform/cpu_feature_guard.cc:193] This TensorFlow binary is optimized with oneAPI Deep Neural Network Library (oneDNN) to use the following CPU instructions in performance-critical operations:  SSE4.1 SSE4.2 AVX AVX2 FMA\n",
      "To enable them in other operations, rebuild TensorFlow with the appropriate compiler flags.\n",
      "/tmp/ipykernel_5477/2157789251.py:8: FutureWarning: This location for 'connectivities' is deprecated. It has been moved to .obsp[connectivities], and will not be accesible here in a future version of anndata.\n",
      "  g = _utils.get_igraph_from_adjacency(adata.uns['neighbors']['connectivities'], directed=True)\n",
      "/tmp/ipykernel_5477/2157789251.py:8: FutureWarning: This location for 'connectivities' is deprecated. It has been moved to .obsp[connectivities], and will not be accesible here in a future version of anndata.\n",
      "  g = _utils.get_igraph_from_adjacency(adata.uns['neighbors']['connectivities'], directed=True)\n",
      "/tmp/ipykernel_5477/2157789251.py:8: FutureWarning: This location for 'connectivities' is deprecated. It has been moved to .obsp[connectivities], and will not be accesible here in a future version of anndata.\n",
      "  g = _utils.get_igraph_from_adjacency(adata.uns['neighbors']['connectivities'], directed=True)\n",
      "/tmp/ipykernel_5477/2157789251.py:8: FutureWarning: This location for 'connectivities' is deprecated. It has been moved to .obsp[connectivities], and will not be accesible here in a future version of anndata.\n",
      "  g = _utils.get_igraph_from_adjacency(adata.uns['neighbors']['connectivities'], directed=True)\n",
      "/tmp/ipykernel_5477/2157789251.py:8: FutureWarning: This location for 'connectivities' is deprecated. It has been moved to .obsp[connectivities], and will not be accesible here in a future version of anndata.\n",
      "  g = _utils.get_igraph_from_adjacency(adata.uns['neighbors']['connectivities'], directed=True)\n",
      "/tmp/ipykernel_5477/2157789251.py:8: FutureWarning: This location for 'connectivities' is deprecated. It has been moved to .obsp[connectivities], and will not be accesible here in a future version of anndata.\n",
      "  g = _utils.get_igraph_from_adjacency(adata.uns['neighbors']['connectivities'], directed=True)\n",
      "/tmp/ipykernel_5477/2157789251.py:8: FutureWarning: This location for 'connectivities' is deprecated. It has been moved to .obsp[connectivities], and will not be accesible here in a future version of anndata.\n",
      "  g = _utils.get_igraph_from_adjacency(adata.uns['neighbors']['connectivities'], directed=True)\n",
      "/tmp/ipykernel_5477/2157789251.py:8: FutureWarning: This location for 'connectivities' is deprecated. It has been moved to .obsp[connectivities], and will not be accesible here in a future version of anndata.\n",
      "  g = _utils.get_igraph_from_adjacency(adata.uns['neighbors']['connectivities'], directed=True)\n",
      "  8%|▊         | 1/12 [01:16<14:04, 76.79s/it]/tmp/ipykernel_5477/2157789251.py:8: FutureWarning: This location for 'connectivities' is deprecated. It has been moved to .obsp[connectivities], and will not be accesible here in a future version of anndata.\n",
      "  g = _utils.get_igraph_from_adjacency(adata.uns['neighbors']['connectivities'], directed=True)\n",
      "/tmp/ipykernel_5477/2157789251.py:8: FutureWarning: This location for 'connectivities' is deprecated. It has been moved to .obsp[connectivities], and will not be accesible here in a future version of anndata.\n",
      "  g = _utils.get_igraph_from_adjacency(adata.uns['neighbors']['connectivities'], directed=True)\n",
      "/tmp/ipykernel_5477/2157789251.py:8: FutureWarning: This location for 'connectivities' is deprecated. It has been moved to .obsp[connectivities], and will not be accesible here in a future version of anndata.\n",
      "  g = _utils.get_igraph_from_adjacency(adata.uns['neighbors']['connectivities'], directed=True)\n",
      "/tmp/ipykernel_5477/2157789251.py:8: FutureWarning: This location for 'connectivities' is deprecated. It has been moved to .obsp[connectivities], and will not be accesible here in a future version of anndata.\n",
      "  g = _utils.get_igraph_from_adjacency(adata.uns['neighbors']['connectivities'], directed=True)\n",
      "/tmp/ipykernel_5477/2157789251.py:8: FutureWarning: This location for 'connectivities' is deprecated. It has been moved to .obsp[connectivities], and will not be accesible here in a future version of anndata.\n",
      "  g = _utils.get_igraph_from_adjacency(adata.uns['neighbors']['connectivities'], directed=True)\n",
      "/tmp/ipykernel_5477/2157789251.py:8: FutureWarning: This location for 'connectivities' is deprecated. It has been moved to .obsp[connectivities], and will not be accesible here in a future version of anndata.\n",
      "  g = _utils.get_igraph_from_adjacency(adata.uns['neighbors']['connectivities'], directed=True)\n",
      "/tmp/ipykernel_5477/2157789251.py:8: FutureWarning: This location for 'connectivities' is deprecated. It has been moved to .obsp[connectivities], and will not be accesible here in a future version of anndata.\n",
      "  g = _utils.get_igraph_from_adjacency(adata.uns['neighbors']['connectivities'], directed=True)\n",
      "/tmp/ipykernel_5477/2157789251.py:8: FutureWarning: This location for 'connectivities' is deprecated. It has been moved to .obsp[connectivities], and will not be accesible here in a future version of anndata.\n",
      "  g = _utils.get_igraph_from_adjacency(adata.uns['neighbors']['connectivities'], directed=True)\n",
      " 17%|█▋        | 2/12 [02:31<12:35, 75.54s/it]/tmp/ipykernel_5477/2157789251.py:8: FutureWarning: This location for 'connectivities' is deprecated. It has been moved to .obsp[connectivities], and will not be accesible here in a future version of anndata.\n",
      "  g = _utils.get_igraph_from_adjacency(adata.uns['neighbors']['connectivities'], directed=True)\n",
      "/tmp/ipykernel_5477/2157789251.py:8: FutureWarning: This location for 'connectivities' is deprecated. It has been moved to .obsp[connectivities], and will not be accesible here in a future version of anndata.\n",
      "  g = _utils.get_igraph_from_adjacency(adata.uns['neighbors']['connectivities'], directed=True)\n",
      "/tmp/ipykernel_5477/2157789251.py:8: FutureWarning: This location for 'connectivities' is deprecated. It has been moved to .obsp[connectivities], and will not be accesible here in a future version of anndata.\n",
      "  g = _utils.get_igraph_from_adjacency(adata.uns['neighbors']['connectivities'], directed=True)\n",
      "/tmp/ipykernel_5477/2157789251.py:8: FutureWarning: This location for 'connectivities' is deprecated. It has been moved to .obsp[connectivities], and will not be accesible here in a future version of anndata.\n",
      "  g = _utils.get_igraph_from_adjacency(adata.uns['neighbors']['connectivities'], directed=True)\n",
      "/tmp/ipykernel_5477/2157789251.py:8: FutureWarning: This location for 'connectivities' is deprecated. It has been moved to .obsp[connectivities], and will not be accesible here in a future version of anndata.\n",
      "  g = _utils.get_igraph_from_adjacency(adata.uns['neighbors']['connectivities'], directed=True)\n",
      "/tmp/ipykernel_5477/2157789251.py:8: FutureWarning: This location for 'connectivities' is deprecated. It has been moved to .obsp[connectivities], and will not be accesible here in a future version of anndata.\n",
      "  g = _utils.get_igraph_from_adjacency(adata.uns['neighbors']['connectivities'], directed=True)\n",
      "/tmp/ipykernel_5477/2157789251.py:8: FutureWarning: This location for 'connectivities' is deprecated. It has been moved to .obsp[connectivities], and will not be accesible here in a future version of anndata.\n",
      "  g = _utils.get_igraph_from_adjacency(adata.uns['neighbors']['connectivities'], directed=True)\n",
      "/tmp/ipykernel_5477/2157789251.py:8: FutureWarning: This location for 'connectivities' is deprecated. It has been moved to .obsp[connectivities], and will not be accesible here in a future version of anndata.\n",
      "  g = _utils.get_igraph_from_adjacency(adata.uns['neighbors']['connectivities'], directed=True)\n",
      " 25%|██▌       | 3/12 [03:51<11:38, 77.65s/it]/tmp/ipykernel_5477/2157789251.py:8: FutureWarning: This location for 'connectivities' is deprecated. It has been moved to .obsp[connectivities], and will not be accesible here in a future version of anndata.\n",
      "  g = _utils.get_igraph_from_adjacency(adata.uns['neighbors']['connectivities'], directed=True)\n",
      "/tmp/ipykernel_5477/2157789251.py:8: FutureWarning: This location for 'connectivities' is deprecated. It has been moved to .obsp[connectivities], and will not be accesible here in a future version of anndata.\n",
      "  g = _utils.get_igraph_from_adjacency(adata.uns['neighbors']['connectivities'], directed=True)\n",
      "/tmp/ipykernel_5477/2157789251.py:8: FutureWarning: This location for 'connectivities' is deprecated. It has been moved to .obsp[connectivities], and will not be accesible here in a future version of anndata.\n",
      "  g = _utils.get_igraph_from_adjacency(adata.uns['neighbors']['connectivities'], directed=True)\n",
      "/tmp/ipykernel_5477/2157789251.py:8: FutureWarning: This location for 'connectivities' is deprecated. It has been moved to .obsp[connectivities], and will not be accesible here in a future version of anndata.\n",
      "  g = _utils.get_igraph_from_adjacency(adata.uns['neighbors']['connectivities'], directed=True)\n",
      "/tmp/ipykernel_5477/2157789251.py:8: FutureWarning: This location for 'connectivities' is deprecated. It has been moved to .obsp[connectivities], and will not be accesible here in a future version of anndata.\n",
      "  g = _utils.get_igraph_from_adjacency(adata.uns['neighbors']['connectivities'], directed=True)\n",
      "/tmp/ipykernel_5477/2157789251.py:8: FutureWarning: This location for 'connectivities' is deprecated. It has been moved to .obsp[connectivities], and will not be accesible here in a future version of anndata.\n",
      "  g = _utils.get_igraph_from_adjacency(adata.uns['neighbors']['connectivities'], directed=True)\n",
      "/tmp/ipykernel_5477/2157789251.py:8: FutureWarning: This location for 'connectivities' is deprecated. It has been moved to .obsp[connectivities], and will not be accesible here in a future version of anndata.\n",
      "  g = _utils.get_igraph_from_adjacency(adata.uns['neighbors']['connectivities'], directed=True)\n",
      "/tmp/ipykernel_5477/2157789251.py:8: FutureWarning: This location for 'connectivities' is deprecated. It has been moved to .obsp[connectivities], and will not be accesible here in a future version of anndata.\n",
      "  g = _utils.get_igraph_from_adjacency(adata.uns['neighbors']['connectivities'], directed=True)\n",
      " 33%|███▎      | 4/12 [04:45<09:07, 68.40s/it]/tmp/ipykernel_5477/2157789251.py:8: FutureWarning: This location for 'connectivities' is deprecated. It has been moved to .obsp[connectivities], and will not be accesible here in a future version of anndata.\n",
      "  g = _utils.get_igraph_from_adjacency(adata.uns['neighbors']['connectivities'], directed=True)\n",
      "/tmp/ipykernel_5477/2157789251.py:8: FutureWarning: This location for 'connectivities' is deprecated. It has been moved to .obsp[connectivities], and will not be accesible here in a future version of anndata.\n",
      "  g = _utils.get_igraph_from_adjacency(adata.uns['neighbors']['connectivities'], directed=True)\n",
      "/tmp/ipykernel_5477/2157789251.py:8: FutureWarning: This location for 'connectivities' is deprecated. It has been moved to .obsp[connectivities], and will not be accesible here in a future version of anndata.\n",
      "  g = _utils.get_igraph_from_adjacency(adata.uns['neighbors']['connectivities'], directed=True)\n",
      "/tmp/ipykernel_5477/2157789251.py:8: FutureWarning: This location for 'connectivities' is deprecated. It has been moved to .obsp[connectivities], and will not be accesible here in a future version of anndata.\n",
      "  g = _utils.get_igraph_from_adjacency(adata.uns['neighbors']['connectivities'], directed=True)\n",
      "/tmp/ipykernel_5477/2157789251.py:8: FutureWarning: This location for 'connectivities' is deprecated. It has been moved to .obsp[connectivities], and will not be accesible here in a future version of anndata.\n",
      "  g = _utils.get_igraph_from_adjacency(adata.uns['neighbors']['connectivities'], directed=True)\n",
      "/tmp/ipykernel_5477/2157789251.py:8: FutureWarning: This location for 'connectivities' is deprecated. It has been moved to .obsp[connectivities], and will not be accesible here in a future version of anndata.\n",
      "  g = _utils.get_igraph_from_adjacency(adata.uns['neighbors']['connectivities'], directed=True)\n",
      "/tmp/ipykernel_5477/2157789251.py:8: FutureWarning: This location for 'connectivities' is deprecated. It has been moved to .obsp[connectivities], and will not be accesible here in a future version of anndata.\n",
      "  g = _utils.get_igraph_from_adjacency(adata.uns['neighbors']['connectivities'], directed=True)\n",
      "/tmp/ipykernel_5477/2157789251.py:8: FutureWarning: This location for 'connectivities' is deprecated. It has been moved to .obsp[connectivities], and will not be accesible here in a future version of anndata.\n",
      "  g = _utils.get_igraph_from_adjacency(adata.uns['neighbors']['connectivities'], directed=True)\n",
      " 42%|████▏     | 5/12 [05:47<07:42, 66.02s/it]/tmp/ipykernel_5477/2157789251.py:8: FutureWarning: This location for 'connectivities' is deprecated. It has been moved to .obsp[connectivities], and will not be accesible here in a future version of anndata.\n",
      "  g = _utils.get_igraph_from_adjacency(adata.uns['neighbors']['connectivities'], directed=True)\n",
      "/tmp/ipykernel_5477/2157789251.py:8: FutureWarning: This location for 'connectivities' is deprecated. It has been moved to .obsp[connectivities], and will not be accesible here in a future version of anndata.\n",
      "  g = _utils.get_igraph_from_adjacency(adata.uns['neighbors']['connectivities'], directed=True)\n",
      "/tmp/ipykernel_5477/2157789251.py:8: FutureWarning: This location for 'connectivities' is deprecated. It has been moved to .obsp[connectivities], and will not be accesible here in a future version of anndata.\n",
      "  g = _utils.get_igraph_from_adjacency(adata.uns['neighbors']['connectivities'], directed=True)\n",
      "/tmp/ipykernel_5477/2157789251.py:8: FutureWarning: This location for 'connectivities' is deprecated. It has been moved to .obsp[connectivities], and will not be accesible here in a future version of anndata.\n",
      "  g = _utils.get_igraph_from_adjacency(adata.uns['neighbors']['connectivities'], directed=True)\n",
      "/tmp/ipykernel_5477/2157789251.py:8: FutureWarning: This location for 'connectivities' is deprecated. It has been moved to .obsp[connectivities], and will not be accesible here in a future version of anndata.\n",
      "  g = _utils.get_igraph_from_adjacency(adata.uns['neighbors']['connectivities'], directed=True)\n",
      "/tmp/ipykernel_5477/2157789251.py:8: FutureWarning: This location for 'connectivities' is deprecated. It has been moved to .obsp[connectivities], and will not be accesible here in a future version of anndata.\n",
      "  g = _utils.get_igraph_from_adjacency(adata.uns['neighbors']['connectivities'], directed=True)\n",
      "/tmp/ipykernel_5477/2157789251.py:8: FutureWarning: This location for 'connectivities' is deprecated. It has been moved to .obsp[connectivities], and will not be accesible here in a future version of anndata.\n",
      "  g = _utils.get_igraph_from_adjacency(adata.uns['neighbors']['connectivities'], directed=True)\n",
      "/tmp/ipykernel_5477/2157789251.py:8: FutureWarning: This location for 'connectivities' is deprecated. It has been moved to .obsp[connectivities], and will not be accesible here in a future version of anndata.\n",
      "  g = _utils.get_igraph_from_adjacency(adata.uns['neighbors']['connectivities'], directed=True)\n",
      " 50%|█████     | 6/12 [06:49<06:26, 64.48s/it]/tmp/ipykernel_5477/2157789251.py:8: FutureWarning: This location for 'connectivities' is deprecated. It has been moved to .obsp[connectivities], and will not be accesible here in a future version of anndata.\n",
      "  g = _utils.get_igraph_from_adjacency(adata.uns['neighbors']['connectivities'], directed=True)\n",
      "/tmp/ipykernel_5477/2157789251.py:8: FutureWarning: This location for 'connectivities' is deprecated. It has been moved to .obsp[connectivities], and will not be accesible here in a future version of anndata.\n",
      "  g = _utils.get_igraph_from_adjacency(adata.uns['neighbors']['connectivities'], directed=True)\n",
      "/tmp/ipykernel_5477/2157789251.py:8: FutureWarning: This location for 'connectivities' is deprecated. It has been moved to .obsp[connectivities], and will not be accesible here in a future version of anndata.\n",
      "  g = _utils.get_igraph_from_adjacency(adata.uns['neighbors']['connectivities'], directed=True)\n",
      "/tmp/ipykernel_5477/2157789251.py:8: FutureWarning: This location for 'connectivities' is deprecated. It has been moved to .obsp[connectivities], and will not be accesible here in a future version of anndata.\n",
      "  g = _utils.get_igraph_from_adjacency(adata.uns['neighbors']['connectivities'], directed=True)\n",
      "/tmp/ipykernel_5477/2157789251.py:8: FutureWarning: This location for 'connectivities' is deprecated. It has been moved to .obsp[connectivities], and will not be accesible here in a future version of anndata.\n",
      "  g = _utils.get_igraph_from_adjacency(adata.uns['neighbors']['connectivities'], directed=True)\n",
      "/tmp/ipykernel_5477/2157789251.py:8: FutureWarning: This location for 'connectivities' is deprecated. It has been moved to .obsp[connectivities], and will not be accesible here in a future version of anndata.\n",
      "  g = _utils.get_igraph_from_adjacency(adata.uns['neighbors']['connectivities'], directed=True)\n",
      "/tmp/ipykernel_5477/2157789251.py:8: FutureWarning: This location for 'connectivities' is deprecated. It has been moved to .obsp[connectivities], and will not be accesible here in a future version of anndata.\n",
      "  g = _utils.get_igraph_from_adjacency(adata.uns['neighbors']['connectivities'], directed=True)\n",
      "/tmp/ipykernel_5477/2157789251.py:8: FutureWarning: This location for 'connectivities' is deprecated. It has been moved to .obsp[connectivities], and will not be accesible here in a future version of anndata.\n",
      "  g = _utils.get_igraph_from_adjacency(adata.uns['neighbors']['connectivities'], directed=True)\n",
      " 58%|█████▊    | 7/12 [07:35<04:53, 58.68s/it]/tmp/ipykernel_5477/2157789251.py:8: FutureWarning: This location for 'connectivities' is deprecated. It has been moved to .obsp[connectivities], and will not be accesible here in a future version of anndata.\n",
      "  g = _utils.get_igraph_from_adjacency(adata.uns['neighbors']['connectivities'], directed=True)\n",
      "/tmp/ipykernel_5477/2157789251.py:8: FutureWarning: This location for 'connectivities' is deprecated. It has been moved to .obsp[connectivities], and will not be accesible here in a future version of anndata.\n",
      "  g = _utils.get_igraph_from_adjacency(adata.uns['neighbors']['connectivities'], directed=True)\n",
      "/tmp/ipykernel_5477/2157789251.py:8: FutureWarning: This location for 'connectivities' is deprecated. It has been moved to .obsp[connectivities], and will not be accesible here in a future version of anndata.\n",
      "  g = _utils.get_igraph_from_adjacency(adata.uns['neighbors']['connectivities'], directed=True)\n",
      "/tmp/ipykernel_5477/2157789251.py:8: FutureWarning: This location for 'connectivities' is deprecated. It has been moved to .obsp[connectivities], and will not be accesible here in a future version of anndata.\n",
      "  g = _utils.get_igraph_from_adjacency(adata.uns['neighbors']['connectivities'], directed=True)\n",
      "/tmp/ipykernel_5477/2157789251.py:8: FutureWarning: This location for 'connectivities' is deprecated. It has been moved to .obsp[connectivities], and will not be accesible here in a future version of anndata.\n",
      "  g = _utils.get_igraph_from_adjacency(adata.uns['neighbors']['connectivities'], directed=True)\n",
      "/tmp/ipykernel_5477/2157789251.py:8: FutureWarning: This location for 'connectivities' is deprecated. It has been moved to .obsp[connectivities], and will not be accesible here in a future version of anndata.\n",
      "  g = _utils.get_igraph_from_adjacency(adata.uns['neighbors']['connectivities'], directed=True)\n",
      "/tmp/ipykernel_5477/2157789251.py:8: FutureWarning: This location for 'connectivities' is deprecated. It has been moved to .obsp[connectivities], and will not be accesible here in a future version of anndata.\n",
      "  g = _utils.get_igraph_from_adjacency(adata.uns['neighbors']['connectivities'], directed=True)\n",
      "/tmp/ipykernel_5477/2157789251.py:8: FutureWarning: This location for 'connectivities' is deprecated. It has been moved to .obsp[connectivities], and will not be accesible here in a future version of anndata.\n",
      "  g = _utils.get_igraph_from_adjacency(adata.uns['neighbors']['connectivities'], directed=True)\n",
      " 67%|██████▋   | 8/12 [08:29<03:47, 56.93s/it]/tmp/ipykernel_5477/2157789251.py:8: FutureWarning: This location for 'connectivities' is deprecated. It has been moved to .obsp[connectivities], and will not be accesible here in a future version of anndata.\n",
      "  g = _utils.get_igraph_from_adjacency(adata.uns['neighbors']['connectivities'], directed=True)\n",
      "/tmp/ipykernel_5477/2157789251.py:8: FutureWarning: This location for 'connectivities' is deprecated. It has been moved to .obsp[connectivities], and will not be accesible here in a future version of anndata.\n",
      "  g = _utils.get_igraph_from_adjacency(adata.uns['neighbors']['connectivities'], directed=True)\n",
      "/tmp/ipykernel_5477/2157789251.py:8: FutureWarning: This location for 'connectivities' is deprecated. It has been moved to .obsp[connectivities], and will not be accesible here in a future version of anndata.\n",
      "  g = _utils.get_igraph_from_adjacency(adata.uns['neighbors']['connectivities'], directed=True)\n",
      "/tmp/ipykernel_5477/2157789251.py:8: FutureWarning: This location for 'connectivities' is deprecated. It has been moved to .obsp[connectivities], and will not be accesible here in a future version of anndata.\n",
      "  g = _utils.get_igraph_from_adjacency(adata.uns['neighbors']['connectivities'], directed=True)\n",
      "/tmp/ipykernel_5477/2157789251.py:8: FutureWarning: This location for 'connectivities' is deprecated. It has been moved to .obsp[connectivities], and will not be accesible here in a future version of anndata.\n",
      "  g = _utils.get_igraph_from_adjacency(adata.uns['neighbors']['connectivities'], directed=True)\n",
      "/tmp/ipykernel_5477/2157789251.py:8: FutureWarning: This location for 'connectivities' is deprecated. It has been moved to .obsp[connectivities], and will not be accesible here in a future version of anndata.\n",
      "  g = _utils.get_igraph_from_adjacency(adata.uns['neighbors']['connectivities'], directed=True)\n",
      "/tmp/ipykernel_5477/2157789251.py:8: FutureWarning: This location for 'connectivities' is deprecated. It has been moved to .obsp[connectivities], and will not be accesible here in a future version of anndata.\n",
      "  g = _utils.get_igraph_from_adjacency(adata.uns['neighbors']['connectivities'], directed=True)\n",
      "/tmp/ipykernel_5477/2157789251.py:8: FutureWarning: This location for 'connectivities' is deprecated. It has been moved to .obsp[connectivities], and will not be accesible here in a future version of anndata.\n",
      "  g = _utils.get_igraph_from_adjacency(adata.uns['neighbors']['connectivities'], directed=True)\n",
      " 75%|███████▌  | 9/12 [09:17<02:43, 54.40s/it]/tmp/ipykernel_5477/2157789251.py:8: FutureWarning: This location for 'connectivities' is deprecated. It has been moved to .obsp[connectivities], and will not be accesible here in a future version of anndata.\n",
      "  g = _utils.get_igraph_from_adjacency(adata.uns['neighbors']['connectivities'], directed=True)\n",
      "/tmp/ipykernel_5477/2157789251.py:8: FutureWarning: This location for 'connectivities' is deprecated. It has been moved to .obsp[connectivities], and will not be accesible here in a future version of anndata.\n",
      "  g = _utils.get_igraph_from_adjacency(adata.uns['neighbors']['connectivities'], directed=True)\n",
      "/tmp/ipykernel_5477/2157789251.py:8: FutureWarning: This location for 'connectivities' is deprecated. It has been moved to .obsp[connectivities], and will not be accesible here in a future version of anndata.\n",
      "  g = _utils.get_igraph_from_adjacency(adata.uns['neighbors']['connectivities'], directed=True)\n",
      "/tmp/ipykernel_5477/2157789251.py:8: FutureWarning: This location for 'connectivities' is deprecated. It has been moved to .obsp[connectivities], and will not be accesible here in a future version of anndata.\n",
      "  g = _utils.get_igraph_from_adjacency(adata.uns['neighbors']['connectivities'], directed=True)\n",
      "/tmp/ipykernel_5477/2157789251.py:8: FutureWarning: This location for 'connectivities' is deprecated. It has been moved to .obsp[connectivities], and will not be accesible here in a future version of anndata.\n",
      "  g = _utils.get_igraph_from_adjacency(adata.uns['neighbors']['connectivities'], directed=True)\n",
      "/tmp/ipykernel_5477/2157789251.py:8: FutureWarning: This location for 'connectivities' is deprecated. It has been moved to .obsp[connectivities], and will not be accesible here in a future version of anndata.\n",
      "  g = _utils.get_igraph_from_adjacency(adata.uns['neighbors']['connectivities'], directed=True)\n",
      "/tmp/ipykernel_5477/2157789251.py:8: FutureWarning: This location for 'connectivities' is deprecated. It has been moved to .obsp[connectivities], and will not be accesible here in a future version of anndata.\n",
      "  g = _utils.get_igraph_from_adjacency(adata.uns['neighbors']['connectivities'], directed=True)\n",
      "/tmp/ipykernel_5477/2157789251.py:8: FutureWarning: This location for 'connectivities' is deprecated. It has been moved to .obsp[connectivities], and will not be accesible here in a future version of anndata.\n",
      "  g = _utils.get_igraph_from_adjacency(adata.uns['neighbors']['connectivities'], directed=True)\n",
      " 83%|████████▎ | 10/12 [10:17<01:52, 56.12s/it]/tmp/ipykernel_5477/2157789251.py:8: FutureWarning: This location for 'connectivities' is deprecated. It has been moved to .obsp[connectivities], and will not be accesible here in a future version of anndata.\n",
      "  g = _utils.get_igraph_from_adjacency(adata.uns['neighbors']['connectivities'], directed=True)\n",
      "/tmp/ipykernel_5477/2157789251.py:8: FutureWarning: This location for 'connectivities' is deprecated. It has been moved to .obsp[connectivities], and will not be accesible here in a future version of anndata.\n",
      "  g = _utils.get_igraph_from_adjacency(adata.uns['neighbors']['connectivities'], directed=True)\n",
      "/tmp/ipykernel_5477/2157789251.py:8: FutureWarning: This location for 'connectivities' is deprecated. It has been moved to .obsp[connectivities], and will not be accesible here in a future version of anndata.\n",
      "  g = _utils.get_igraph_from_adjacency(adata.uns['neighbors']['connectivities'], directed=True)\n",
      "/tmp/ipykernel_5477/2157789251.py:8: FutureWarning: This location for 'connectivities' is deprecated. It has been moved to .obsp[connectivities], and will not be accesible here in a future version of anndata.\n",
      "  g = _utils.get_igraph_from_adjacency(adata.uns['neighbors']['connectivities'], directed=True)\n",
      "/tmp/ipykernel_5477/2157789251.py:8: FutureWarning: This location for 'connectivities' is deprecated. It has been moved to .obsp[connectivities], and will not be accesible here in a future version of anndata.\n",
      "  g = _utils.get_igraph_from_adjacency(adata.uns['neighbors']['connectivities'], directed=True)\n",
      "/tmp/ipykernel_5477/2157789251.py:8: FutureWarning: This location for 'connectivities' is deprecated. It has been moved to .obsp[connectivities], and will not be accesible here in a future version of anndata.\n",
      "  g = _utils.get_igraph_from_adjacency(adata.uns['neighbors']['connectivities'], directed=True)\n",
      "/tmp/ipykernel_5477/2157789251.py:8: FutureWarning: This location for 'connectivities' is deprecated. It has been moved to .obsp[connectivities], and will not be accesible here in a future version of anndata.\n",
      "  g = _utils.get_igraph_from_adjacency(adata.uns['neighbors']['connectivities'], directed=True)\n",
      "/tmp/ipykernel_5477/2157789251.py:8: FutureWarning: This location for 'connectivities' is deprecated. It has been moved to .obsp[connectivities], and will not be accesible here in a future version of anndata.\n",
      "  g = _utils.get_igraph_from_adjacency(adata.uns['neighbors']['connectivities'], directed=True)\n",
      " 92%|█████████▏| 11/12 [11:16<00:56, 56.99s/it]/tmp/ipykernel_5477/2157789251.py:8: FutureWarning: This location for 'connectivities' is deprecated. It has been moved to .obsp[connectivities], and will not be accesible here in a future version of anndata.\n",
      "  g = _utils.get_igraph_from_adjacency(adata.uns['neighbors']['connectivities'], directed=True)\n",
      "/tmp/ipykernel_5477/2157789251.py:8: FutureWarning: This location for 'connectivities' is deprecated. It has been moved to .obsp[connectivities], and will not be accesible here in a future version of anndata.\n",
      "  g = _utils.get_igraph_from_adjacency(adata.uns['neighbors']['connectivities'], directed=True)\n",
      "/tmp/ipykernel_5477/2157789251.py:8: FutureWarning: This location for 'connectivities' is deprecated. It has been moved to .obsp[connectivities], and will not be accesible here in a future version of anndata.\n",
      "  g = _utils.get_igraph_from_adjacency(adata.uns['neighbors']['connectivities'], directed=True)\n",
      "/tmp/ipykernel_5477/2157789251.py:8: FutureWarning: This location for 'connectivities' is deprecated. It has been moved to .obsp[connectivities], and will not be accesible here in a future version of anndata.\n",
      "  g = _utils.get_igraph_from_adjacency(adata.uns['neighbors']['connectivities'], directed=True)\n",
      "/tmp/ipykernel_5477/2157789251.py:8: FutureWarning: This location for 'connectivities' is deprecated. It has been moved to .obsp[connectivities], and will not be accesible here in a future version of anndata.\n",
      "  g = _utils.get_igraph_from_adjacency(adata.uns['neighbors']['connectivities'], directed=True)\n",
      "/tmp/ipykernel_5477/2157789251.py:8: FutureWarning: This location for 'connectivities' is deprecated. It has been moved to .obsp[connectivities], and will not be accesible here in a future version of anndata.\n",
      "  g = _utils.get_igraph_from_adjacency(adata.uns['neighbors']['connectivities'], directed=True)\n",
      "/tmp/ipykernel_5477/2157789251.py:8: FutureWarning: This location for 'connectivities' is deprecated. It has been moved to .obsp[connectivities], and will not be accesible here in a future version of anndata.\n",
      "  g = _utils.get_igraph_from_adjacency(adata.uns['neighbors']['connectivities'], directed=True)\n",
      "/tmp/ipykernel_5477/2157789251.py:8: FutureWarning: This location for 'connectivities' is deprecated. It has been moved to .obsp[connectivities], and will not be accesible here in a future version of anndata.\n",
      "  g = _utils.get_igraph_from_adjacency(adata.uns['neighbors']['connectivities'], directed=True)\n",
      "100%|██████████| 12/12 [12:05<00:00, 60.49s/it]\n"
     ]
    }
   ],
   "source": [
    "from Spanve import *\n",
    "from tqdm import tqdm\n",
    "import leidenalg\n",
    "\n",
    "data_dir = './recode/IMPUTEDLIBD/data/'\n",
    "data_ids = [i for i in os.listdir(data_dir) if i.endswith('.h5ad')]\n",
    "recoder = pd.DataFrame(columns = ['data','ari','ami','pre_type','clust_method'])\n",
    "for data_id in tqdm(data_ids):\n",
    "    adata = sc.read_h5ad(\n",
    "        os.path.join(data_dir,data_id)\n",
    "    )\n",
    "    ground = adata.obs['ground_truth']    \n",
    "    adata_pre = adata_preprocess(adata)\n",
    "    \n",
    "    for pre_type in ['raw','cell_ranger.pca', 'p.spanve-k.imputated.pca', 'p.spanve-k.pca', #'spanve-k.imputated.pca', 'spanve-k.pca'\n",
    "                     ]:        \n",
    "        adata = adata_pre.copy()\n",
    "        \n",
    "        if pre_type == 'raw':\n",
    "            sc.pp.pca(adata)\n",
    "            sc.pp.neighbors(adata)\n",
    "        else:\n",
    "            sc.pp.neighbors(adata,use_rep=pre_type)\n",
    "            \n",
    "        # sc.tl.leiden(adata, partition_type=leidenalg.ModularityVertexPartition, resolution = None)\n",
    "        best_r = search_resolution_leiden(adata)\n",
    "        sc.tl.leiden(adata, resolution = best_r)\n",
    "        label = adata.obs['leiden']\n",
    "        \n",
    "        recoder.loc[len(recoder),:] = data_id,ari(ground,label),ami(ground,label),pre_type,'Leiden'"
   ]
  },
  {
   "cell_type": "code",
   "execution_count": 6,
   "id": "53e38e6a-01c7-4bc0-ba2d-cfae02ae9ef7",
   "metadata": {
    "execution": {
     "iopub.execute_input": "2024-02-20T04:55:27.055410Z",
     "iopub.status.busy": "2024-02-20T04:55:27.055150Z",
     "iopub.status.idle": "2024-02-20T04:55:27.109718Z",
     "shell.execute_reply": "2024-02-20T04:55:27.108930Z",
     "shell.execute_reply.started": "2024-02-20T04:55:27.055382Z"
    },
    "tags": []
   },
   "outputs": [],
   "source": [
    "recoder.to_csv('./recode/IMPUTEDLIBD/LD.res.csv')"
   ]
  },
  {
   "cell_type": "markdown",
   "id": "afda4996-1184-4c2b-a4c7-eb7d8342507e",
   "metadata": {
    "tags": []
   },
   "source": [
    "# BayesSpace\n",
    "New Statics Method"
   ]
  },
  {
   "cell_type": "code",
   "execution_count": 9,
   "id": "67e4a325-0717-42b3-9566-52519d387d48",
   "metadata": {
    "execution": {
     "iopub.execute_input": "2024-02-21T05:21:40.317151Z",
     "iopub.status.busy": "2024-02-21T05:21:40.316736Z",
     "iopub.status.idle": "2024-02-21T05:21:47.180844Z",
     "shell.execute_reply": "2024-02-21T05:21:47.179407Z",
     "shell.execute_reply.started": "2024-02-21T05:21:40.317097Z"
    },
    "tags": []
   },
   "outputs": [],
   "source": [
    "data_dir = './recode/IMPUTEDLIBD/data/'\n",
    "data_ids = [i for i in os.listdir(data_dir) if i.endswith('.h5ad')]\n",
    "recoder = pd.DataFrame(columns = ['data','ari','ami','pre_type','clust_method'])\n",
    "\n",
    "for data_id in data_ids:\n",
    "        # print(adata.var['highly_variable'].sum(), adata.var['spanve_spatial_features_pre'].sum())\n",
    "        adata = sc.read_h5ad(os.path.join(data_dir,data_id))\n",
    "        ground = adata.obs['ground_truth']\n",
    "        ground = ground.dropna()\n",
    "        \n",
    "        labels = pd.read_csv(f\"./recode/IMPUTEDLIBD/BS/{data_id.replace('.h5ad','')}_BS.out.csv\",index_col=0)\n",
    "        labels.index = adata.obs_names\n",
    "\n",
    "        recoder.loc[len(recoder),:] = data_id,ari(ground,labels.loc[ground.index,'spanve_i']),ami(ground,labels.loc[ground.index,'spanve_i']),'spanve_impute','bayes_space'\n",
    "        recoder.loc[len(recoder),:] = data_id,ari(ground,labels.loc[ground.index,'base']),ami(ground,labels.loc[ground.index,'base']),'raw','bayes_space'\n",
    "        \n",
    "        for method in ['topK', 'spanve-k.imputated.pca', 'p.spanve-k.pca', 'spanve-k.pca']:\n",
    "            labels_topk = pd.read_csv(f'./recode/IMPUTEDLIBD/BS/{method}_{data_id.replace(\".h5ad\",\"\")}.csv', index_col=0).iloc[:,0]\n",
    "            recoder.loc[len(recoder),:] = data_id,ari(ground,labels_topk),ami(ground,labels_topk),method,'bayes_space'"
   ]
  },
  {
   "cell_type": "code",
   "execution_count": 11,
   "id": "852df57d-a471-4d1b-a7cb-4f4c23efa721",
   "metadata": {
    "execution": {
     "iopub.execute_input": "2024-02-21T05:22:09.562752Z",
     "iopub.status.busy": "2024-02-21T05:22:09.562296Z",
     "iopub.status.idle": "2024-02-21T05:22:09.602384Z",
     "shell.execute_reply": "2024-02-21T05:22:09.600856Z",
     "shell.execute_reply.started": "2024-02-21T05:22:09.562692Z"
    },
    "tags": []
   },
   "outputs": [],
   "source": [
    "recoder.to_csv('./recode/IMPUTEDLIBD/BS.res.csv')"
   ]
  }
 ],
 "metadata": {
  "kernelspec": {
   "display_name": "Python 3 (ipykernel)",
   "language": "python",
   "name": "python3"
  },
  "language_info": {
   "codemirror_mode": {
    "name": "ipython",
    "version": 3
   },
   "file_extension": ".py",
   "mimetype": "text/x-python",
   "name": "python",
   "nbconvert_exporter": "python",
   "pygments_lexer": "ipython3",
   "version": "3.9.13"
  }
 },
 "nbformat": 4,
 "nbformat_minor": 5
}
