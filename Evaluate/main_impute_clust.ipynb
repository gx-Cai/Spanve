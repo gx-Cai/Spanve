{
 "cells": [
  {
   "cell_type": "code",
   "execution_count": null,
   "id": "b10af559-5374-47ad-85e5-70826003777f",
   "metadata": {},
   "outputs": [],
   "source": [
    "import pandas as pd\n",
    "import numpy as np\n",
    "import sklearn\n",
    "\n",
    "from sklearn.metrics import adjusted_rand_score as ari\n",
    "from sklearn.metrics import adjusted_mutual_info_score as ami\n",
    "\n",
    "import scanpy as sc\n",
    "import os\n",
    "\n",
    "recoder = pd.DataFrame(columns = ['data','ari','ami','pre_type','clust_method'])"
   ]
  },
  {
   "cell_type": "markdown",
   "id": "802f0946-7893-4ed2-ad3e-3aa1f865e803",
   "metadata": {
    "jp-MarkdownHeadingCollapsed": true,
    "tags": []
   },
   "source": [
    "# K-means"
   ]
  },
  {
   "cell_type": "code",
   "execution_count": null,
   "id": "2f20234f-58d2-4b6b-af90-70c5495f845f",
   "metadata": {},
   "outputs": [],
   "source": [
    "from Softs.Spanve import *\n",
    "from tqdm import tqdm\n",
    "\n",
    "data_dir = './recode/IMPUTEDLIBD/processed/'\n",
    "data_ids = [i for i in os.listdir(data_dir) if i.endswith('.h5ad')]\n",
    "\n",
    "for data_id in tqdm(data_ids):\n",
    "    adata_raw = sc.read_h5ad(\n",
    "        os.path.join(data_dir,data_id)\n",
    "    )\n",
    "    ground = adata_raw.obs['ground_truth']\n",
    "    \n",
    "    adata_pre = adata_preprocess(adata_raw)\n",
    "    \n",
    "    for pre_type in ['raw','s.impute','s.impute_p']:\n",
    "        adata = adata_pre.copy()\n",
    "        if pre_type == 'raw':\n",
    "            sc.pp.pca(adata)\n",
    "            X = adata.obsm['X_pca']\n",
    "        elif pre_type == 's.impute':\n",
    "            X = adata.obsm['spanve.imputed.pca']\n",
    "        elif pre_type == 's.impute_p':\n",
    "            X = adata.obsm['spanve.imputed.pca.pre']\n",
    "            \n",
    "        cluster = AutoCluster()\n",
    "        label = pd.Series(cluster.fit_predict(X),index=adata.obs_names)\n",
    "        \n",
    "        recoder.loc[len(recoder),:] = data_id,ari(ground,label),ami(ground,label),pre_type,'KMeans'"
   ]
  },
  {
   "cell_type": "code",
   "execution_count": null,
   "id": "4041c84f-89a8-49c1-9beb-9ad97bd49d2f",
   "metadata": {},
   "outputs": [],
   "source": [
    "recoder.to_csv('./recode/IMPUTEDLIBD/KM.res.csv')"
   ]
  },
  {
   "cell_type": "markdown",
   "id": "8b1d8882-a82d-40de-a8f2-35ea46ec82b6",
   "metadata": {
    "jp-MarkdownHeadingCollapsed": true,
    "tags": []
   },
   "source": [
    "# Leiden"
   ]
  },
  {
   "cell_type": "code",
   "execution_count": null,
   "id": "74e0d840-53fe-441b-8e1b-e6bed8ee7dc6",
   "metadata": {
    "collapsed": true,
    "jupyter": {
     "outputs_hidden": true
    },
    "scrolled": true,
    "tags": []
   },
   "outputs": [],
   "source": [
    "from Softs.Spanve import *\n",
    "from tqdm import tqdm\n",
    "\n",
    "data_dir = './recode/IMPUTEDLIBD/processed/'\n",
    "data_ids = [i for i in os.listdir(data_dir) if i.endswith('.h5ad')]\n",
    "\n",
    "for data_id in tqdm(data_ids):\n",
    "    adata = sc.read_h5ad(\n",
    "        os.path.join(data_dir,data_id)\n",
    "    )\n",
    "    ground = adata.obs['ground_truth']\n",
    "    \n",
    "    model = Spanve(adata)\n",
    "    adata_pre = adata_preprocess(adata)\n",
    "    \n",
    "    for pre_type in [\n",
    "        'raw','s.impute_p','s.impute',\n",
    "    ]:\n",
    "        adata = adata_pre.copy()\n",
    "        if pre_type == 'raw':\n",
    "            sc.pp.pca(adata)\n",
    "            sc.pp.neighbors(adata)\n",
    "            sc.tl.leiden(adata)\n",
    "            label = adata.obs['leiden']\n",
    "\n",
    "        elif pre_type == 's.impute':\n",
    "            sc.pp.neighbors(adata,use_rep='spanve.imputed')\n",
    "            sc.tl.leiden(adata)\n",
    "            label = adata.obs['leiden']\n",
    "        \n",
    "        elif pre_type == 's.impute_p':\n",
    "            sc.pp.neighbors(adata,use_rep='spanve.imputed.pre')\n",
    "            sc.tl.leiden(adata)\n",
    "            label = adata.obs['leiden']\n",
    "        \n",
    "        recoder.loc[len(recoder),:] = data_id,ari(ground,label),ami(ground,label),pre_type,'Leiden'"
   ]
  },
  {
   "cell_type": "code",
   "execution_count": null,
   "id": "53e38e6a-01c7-4bc0-ba2d-cfae02ae9ef7",
   "metadata": {},
   "outputs": [],
   "source": [
    "recoder.to_csv('./recode/IMPUTEDLIBD/LD.res.csv')"
   ]
  },
  {
   "cell_type": "code",
   "execution_count": null,
   "id": "15efc76b-e1ab-4caa-b586-184949696242",
   "metadata": {},
   "outputs": [],
   "source": [
    "import matplotlib.pyplot as plt\n",
    "import seaborn as sns\n",
    "\n",
    "f = plt.figure(dpi=150)\n",
    "sns.boxplot(\n",
    "    data=recoder,\n",
    "    y='ari',x = 'pre_type'\n",
    ")"
   ]
  },
  {
   "cell_type": "markdown",
   "id": "09a0e9ab-4dd3-4f5e-a18a-84ec483fbba8",
   "metadata": {
    "jp-MarkdownHeadingCollapsed": true,
    "tags": []
   },
   "source": [
    "# Louvain"
   ]
  },
  {
   "cell_type": "code",
   "execution_count": null,
   "id": "c2842d39-4da8-4e14-9e33-66d0b67ad199",
   "metadata": {
    "scrolled": true,
    "tags": []
   },
   "outputs": [],
   "source": [
    "from Softs.Spanve import *\n",
    "from tqdm import tqdm\n",
    "\n",
    "data_dir = './recode/IMPUTEDLIBD/processed/'\n",
    "data_ids = [i for i in os.listdir(data_dir) if i.endswith('.h5ad')]\n",
    "\n",
    "for data_id in tqdm(data_ids):\n",
    "    adata = sc.read_h5ad(\n",
    "        os.path.join(data_dir,data_id)\n",
    "    )\n",
    "    ground = adata.obs['ground_truth']\n",
    "    \n",
    "    model = Spanve(adata)\n",
    "    adata_pre = adata_preprocess(adata)\n",
    "    \n",
    "    for pre_type in ['raw','s.impute','s.impute_p']:\n",
    "        adata = adata_pre.copy()\n",
    "        if pre_type == 'raw':\n",
    "            sc.pp.pca(adata)\n",
    "            sc.pp.neighbors(adata)\n",
    "            sc.tl.louvain(adata)\n",
    "            label = adata.obs['louvain']\n",
    "\n",
    "        elif pre_type == 's.impute':\n",
    "            sc.pp.neighbors(adata,use_rep='spanve.imputed')\n",
    "            sc.tl.louvain(adata)\n",
    "            label = adata.obs['louvain']\n",
    "        \n",
    "        elif pre_type == 's.impute_p':\n",
    "            sc.pp.neighbors(adata,use_rep='spanve.imputed.pre')\n",
    "            sc.tl.louvain(adata)\n",
    "            label = adata.obs['louvain']\n",
    "        \n",
    "        recoder.loc[len(recoder),:] = data_id,ari(ground,label),ami(ground,label),pre_type,'louvain'"
   ]
  },
  {
   "cell_type": "code",
   "execution_count": null,
   "id": "244351ba-b1f1-481c-9a37-04a0393b4e36",
   "metadata": {},
   "outputs": [],
   "source": [
    "recoder.to_csv('./recode/IMPUTEDLIBD/LV.res.csv')"
   ]
  },
  {
   "cell_type": "code",
   "execution_count": null,
   "id": "1902103b-4a9c-4b54-8d63-577359d82d18",
   "metadata": {},
   "outputs": [],
   "source": [
    "import matplotlib.pyplot as plt\n",
    "import seaborn as sns\n",
    "\n",
    "f = plt.figure(dpi=150)\n",
    "sns.boxplot(\n",
    "    data=recoder,\n",
    "    y='ari',x = 'pre_type'\n",
    ")"
   ]
  },
  {
   "cell_type": "markdown",
   "id": "afda4996-1184-4c2b-a4c7-eb7d8342507e",
   "metadata": {
    "jp-MarkdownHeadingCollapsed": true,
    "tags": []
   },
   "source": [
    "# BayesSpace\n",
    "New Statics Method"
   ]
  },
  {
   "cell_type": "code",
   "execution_count": null,
   "id": "67e4a325-0717-42b3-9566-52519d387d48",
   "metadata": {
    "tags": []
   },
   "outputs": [],
   "source": [
    "data_dir = './recode/IMPUTEDLIBD/processed/'\n",
    "data_ids = [i for i in os.listdir(data_dir) if i.endswith('.h5ad')]\n",
    "recoder = pd.DataFrame(columns = ['data','ari','ami','pre_type','clust_method'])\n",
    "\n",
    "for data_id in data_ids:\n",
    "\n",
    "        labels = pd.read_csv(f\"./recode/IMPUTEDLIBD/BS/{data_id.replace('.h5ad','')}_BS.out.csv\",index_col=0)\n",
    "        adata = sc.read_h5ad(\n",
    "            os.path.join(data_dir,data_id)\n",
    "        )\n",
    "        ground = adata.obs['ground_truth']\n",
    "        # ground = adata.obs['layer_guess_reordered']\n",
    "        labels.index = adata.obs_names\n",
    "        ground = ground.dropna()\n",
    "\n",
    "        recoder.loc[len(recoder),:] = data_id,ari(ground,labels.loc[ground.index,'spanve_i']),ami(ground,labels.loc[ground.index,'spanve_i']),'spanve_impute','bayes_space'\n",
    "        recoder.loc[len(recoder),:] = data_id,ari(ground,labels.loc[ground.index,'base']),ami(ground,labels.loc[ground.index,'base']),'raw','bayes_space'\n"
   ]
  },
  {
   "cell_type": "code",
   "execution_count": null,
   "id": "852df57d-a471-4d1b-a7cb-4f4c23efa721",
   "metadata": {},
   "outputs": [],
   "source": [
    "recoder.to_csv('./recode/IMPUTEDLIBD/BS.res.csv')"
   ]
  },
  {
   "cell_type": "code",
   "execution_count": null,
   "id": "820309f2-919c-47c4-9de3-d58f25f1dd2e",
   "metadata": {},
   "outputs": [],
   "source": [
    "import matplotlib.pyplot as plt\n",
    "import seaborn as sns\n",
    "\n",
    "# recoder = pd.read_csv('./recode/IMPUTEDLIBD/LD.res.csv',index_col=0)\n",
    "\n",
    "f = plt.figure(dpi=150)\n",
    "sns.boxplot(\n",
    "    data=recoder,\n",
    "    y='ari',x = 'pre_type'\n",
    ")"
   ]
  },
  {
   "cell_type": "code",
   "execution_count": null,
   "id": "9712fbbf-0273-474b-8816-15b7dc7c3cb5",
   "metadata": {},
   "outputs": [],
   "source": []
  }
 ],
 "metadata": {
  "kernelspec": {
   "display_name": "Python 3 (ipykernel)",
   "language": "python",
   "name": "python3"
  },
  "language_info": {
   "codemirror_mode": {
    "name": "ipython",
    "version": 3
   },
   "file_extension": ".py",
   "mimetype": "text/x-python",
   "name": "python",
   "nbconvert_exporter": "python",
   "pygments_lexer": "ipython3",
   "version": "3.9.13"
  }
 },
 "nbformat": 4,
 "nbformat_minor": 5
}
