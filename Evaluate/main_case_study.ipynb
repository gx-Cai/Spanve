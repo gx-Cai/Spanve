{
 "cells": [
  {
   "attachments": {},
   "cell_type": "markdown",
   "id": "88b48d78-95f0-41b8-a1e1-4b478629dcf3",
   "metadata": {},
   "source": [
    "# Case Study of Cancer Spatial Transcriptome Data Analysis"
   ]
  },
  {
   "cell_type": "code",
   "execution_count": null,
   "id": "996ab818-c51d-4d78-8bae-aa2ed652751e",
   "metadata": {},
   "outputs": [],
   "source": [
    "import pandas as pd\n",
    "import numpy as np\n",
    "import scanpy as sc\n",
    "import os\n",
    "import sklearn\n",
    "import Spanve\n",
    "import matplotlib.pyplot as plt\n",
    "import seaborn as sns\n",
    "import squidpy as sq\n",
    "print(sklearn.__version__)"
   ]
  },
  {
   "attachments": {},
   "cell_type": "markdown",
   "id": "67db049d-8202-436c-a43b-7fa99dfdb13a",
   "metadata": {
    "jp-MarkdownHeadingCollapsed": true,
    "tags": []
   },
   "source": [
    "### Quality Control"
   ]
  },
  {
   "cell_type": "code",
   "execution_count": null,
   "id": "b945dc89-429c-46da-a8ec-e6f899a551de",
   "metadata": {},
   "outputs": [],
   "source": [
    "adata = sc.datasets.visium_sge('Visium_Human_Breast_Cancer')\n",
    "adata.var_names_make_unique()\n",
    "adata.var[\"mt\"] = adata.var_names.str.startswith(\"MT-\")\n",
    "sc.pp.calculate_qc_metrics(adata, qc_vars=[\"mt\"], inplace=True)"
   ]
  },
  {
   "cell_type": "code",
   "execution_count": null,
   "id": "4047526b-c0ed-4f8f-abb0-288c5dfc4193",
   "metadata": {},
   "outputs": [],
   "source": [
    "fig, axs = plt.subplots(1, 4, figsize=(18, 4))\n",
    "sns.histplot(adata.obs[\"total_counts\"], kde=False, ax=axs[0])\n",
    "sns.histplot(adata.obs[\"total_counts\"][adata.obs[\"total_counts\"] < 10000], kde=False, bins=40, ax=axs[1])\n",
    "sns.histplot(adata.obs[\"n_genes_by_counts\"], kde=False, bins=60, ax=axs[2])\n",
    "sns.histplot(adata.obs[\"n_genes_by_counts\"][adata.obs[\"n_genes_by_counts\"] < 4000], kde=False, bins=60, ax=axs[3])"
   ]
  },
  {
   "cell_type": "code",
   "execution_count": null,
   "id": "0f51a4ef-9b61-4c8a-86b4-be31125f6b34",
   "metadata": {},
   "outputs": [],
   "source": [
    "sc.pp.filter_cells(adata, min_counts=10)\n",
    "sc.pp.filter_genes(adata, min_cells=5)\n",
    "print(adata.shape)"
   ]
  },
  {
   "attachments": {},
   "cell_type": "markdown",
   "id": "ddd96c08-6247-41dd-8f36-770a69da0915",
   "metadata": {
    "jp-MarkdownHeadingCollapsed": true,
    "tags": []
   },
   "source": [
    "### Preprocess"
   ]
  },
  {
   "cell_type": "code",
   "execution_count": null,
   "id": "cf7cded2-4aee-4879-bd77-e37fccbc6e53",
   "metadata": {
    "tags": []
   },
   "outputs": [],
   "source": [
    "adata.X = adata.X.toarray()\n",
    "adata.layers[\"normalized\"] = Spanve.adata_preprocess(adata).X\n",
    "adata.layers['counts'] = adata.X.copy()\n",
    "adata.layers['normlized_counts'] =  Spanve.adata_preprocess_int(adata).X"
   ]
  },
  {
   "attachments": {},
   "cell_type": "markdown",
   "id": "ec98bec4-3a89-451d-9437-d75b4af33f9e",
   "metadata": {
    "tags": []
   },
   "source": [
    "### Run Spanve"
   ]
  },
  {
   "cell_type": "code",
   "execution_count": null,
   "id": "c6ae9836-25f5-4e78-81c7-60682c25cabb",
   "metadata": {
    "scrolled": true,
    "tags": []
   },
   "outputs": [],
   "source": [
    "# adata.X = adata.layers['normlized_counts']\n",
    "svmodel = Spanve.Spanve(adata)\n",
    "svmodel.fit(verbose=True)\n",
    "svmodel.rejects.sum()"
   ]
  },
  {
   "cell_type": "code",
   "execution_count": null,
   "id": "a1323206-2346-4df6-bf87-686cff1bf8b8",
   "metadata": {},
   "outputs": [],
   "source": [
    "X = adata.layers[\"normalized\"]\n",
    "newX = svmodel.impute_from_graph(X,verbose=True)\n",
    "adata.layers['imputated'] = newX"
   ]
  },
  {
   "cell_type": "code",
   "execution_count": null,
   "id": "08634526-430e-4b85-b140-c79e7f0edd34",
   "metadata": {},
   "outputs": [],
   "source": [
    "svmodel.save('./Results/case.svmodel.pkl',format='pickle')"
   ]
  },
  {
   "attachments": {},
   "cell_type": "markdown",
   "id": "30653f3f-6412-44b1-8366-5ab7d62a7f7b",
   "metadata": {
    "jp-MarkdownHeadingCollapsed": true,
    "tags": []
   },
   "source": [
    "### Cluster"
   ]
  },
  {
   "cell_type": "code",
   "execution_count": null,
   "id": "e3a236f1-07d3-423a-aa1d-cd3feb45fa93",
   "metadata": {
    "tags": []
   },
   "outputs": [],
   "source": [
    "sq.gr.spatial_neighbors(adata,coord_type=\"generic\", delaunay=False)"
   ]
  },
  {
   "cell_type": "code",
   "execution_count": null,
   "id": "2b1a70fc-167d-4796-9a42-d1a767babd86",
   "metadata": {
    "collapsed": true,
    "jupyter": {
     "outputs_hidden": true
    },
    "tags": []
   },
   "outputs": [],
   "source": [
    "from sklearn.decomposition import PCA\n",
    "newX = PCA(n_components=50).fit_transform(newX[:,svmodel.rejects])\n",
    "cluster = Spanve.AutoCluster(init_k=3,max_k=15,criteria = 'bic')\n",
    "labelx = cluster.fit_predict(newX,verbose=True)\n",
    "cluster.plot_elbow()"
   ]
  },
  {
   "cell_type": "code",
   "execution_count": null,
   "id": "b781a111-5700-478f-bb79-461800085ff3",
   "metadata": {},
   "outputs": [],
   "source": [
    "# sq.gr.spatial_neighbors(adata,coord_type=\"generic\", delaunay=True)\n",
    "sq.gr.nhood_enrichment(adata, cluster_key=\"KMeans\")"
   ]
  },
  {
   "cell_type": "code",
   "execution_count": null,
   "id": "54f3528e-90ee-4285-9dd5-43a43e20902f",
   "metadata": {
    "collapsed": true,
    "jupyter": {
     "outputs_hidden": true
    },
    "tags": []
   },
   "outputs": [],
   "source": [
    "fig, ax = plt.subplots(1, 2, figsize=(13, 7))\n",
    "sq.pl.nhood_enrichment(\n",
    "    adata,\n",
    "    cluster_key=\"KMeans\",\n",
    "    figsize=(8, 8),\n",
    "    title=\"Neighborhood enrichment adata\",\n",
    "    ax=ax[0],\n",
    "    cmap = 'gist_earth'\n",
    ")\n",
    "# sq.pl.spatial_scatter(adata, color=\"KMeans\", shape=None, ax=ax[1])\n",
    "sc.pl.spatial(adata, img_key=\"hires\", color=\"KMeans\",ax=ax[1])\n",
    "with rc_context({'figure.figsize': (7, 7)}):\n",
    "    sc.pl.spatial(adata, img_key=\"hires\", color=\"KMeans\",show=False)\n",
    "plt.subplots_adjust(left=0.05,right=0.95,bottom=0.05,top=0.95)\n",
    "# plt.savefig('./subplot1_cluster.pdf')"
   ]
  },
  {
   "cell_type": "code",
   "execution_count": null,
   "id": "ccdeead5-847e-4166-b904-386cd4a67964",
   "metadata": {},
   "outputs": [],
   "source": [
    "sc.tl.rank_genes_groups(adata, \"KMeans\", method=\"wilcoxon\")\n",
    "dfgroup = sc.get.get.rank_genes_groups_df(adata,group =[str(i) for i in range(7)])\n",
    "# dfgroup.to_csv('./Results/case_markers.csv')"
   ]
  },
  {
   "cell_type": "code",
   "execution_count": null,
   "id": "4e0c5024-5c52-400b-a90d-b3181584f9c6",
   "metadata": {},
   "outputs": [],
   "source": [
    "adata.X = adata.layers['imputated']\n",
    "from matplotlib.pyplot import rc_context\n",
    "with rc_context({'figure.figsize': (10, 4)}):\n",
    "    sc.pl.rank_genes_groups_heatmap(\n",
    "        adata, \n",
    "        groups=[str(i) for i in range(7)], \n",
    "        n_genes=5, \n",
    "        groupby=\"KMeans\",\n",
    "        cmap='viridis',\n",
    "        show=False\n",
    "        )\n",
    "plt.subplots_adjust(left=0.05,right=0.95,bottom=0.15,top=0.95)\n",
    "# plt.savefig('./subplot3_heatmap.pdf')"
   ]
  },
  {
   "attachments": {},
   "cell_type": "markdown",
   "id": "f73d7854-6b87-489b-8bc8-002c3ff9637f",
   "metadata": {
    "jp-MarkdownHeadingCollapsed": true,
    "tags": []
   },
   "source": [
    "### Spatial Co exp"
   ]
  },
  {
   "cell_type": "code",
   "execution_count": null,
   "id": "3e26c9a9-f297-489f-a93b-da55e5fb0432",
   "metadata": {},
   "outputs": [],
   "source": [
    "from itertools import combinations\n",
    "from tqdm import tqdm\n",
    "import networkx as nx\n",
    "def lighten_color(color, amount=0.5):\n",
    "    import matplotlib.colors as mc\n",
    "    import colorsys\n",
    "    try:\n",
    "        c = mc.cnames[color]\n",
    "    except:\n",
    "        c = color\n",
    "    c = colorsys.rgb_to_hls(*mc.to_rgb(c))\n",
    "    return colorsys.hls_to_rgb(c[0], 1 - amount * (1 - c[1]), c[2])\n",
    "def draw_net(df_net,show_label=False,weight_scale=1,**kwargs):\n",
    "    node1 = df_net['node1'].values\n",
    "    node2 = df_net['node2'].values\n",
    "    weight = df_net['weight'].values\n",
    "    weight = weight / weight_scale\n",
    "    all_nodes = np.unique(np.concatenate([node1,node2]).astype(str))\n",
    "    G = nx.Graph()\n",
    "    G.add_nodes_from(all_nodes,)\n",
    "    # add edges\n",
    "    for i in range(node1.shape[0]):\n",
    "        G.add_edge(node1[i],node2[i])\n",
    "    # delete nodes with degree 0\n",
    "    G.remove_nodes_from(list(nx.isolates(G)))\n",
    "    \n",
    "    # add edge weights\n",
    "    for i in range(node1.shape[0]):\n",
    "        G[node1[i]][node2[i]]['weight'] = weight[i]\n",
    "    \n",
    "    return G"
   ]
  },
  {
   "attachments": {},
   "cell_type": "markdown",
   "id": "f2610e99-cebe-460b-abfd-f83368097eb7",
   "metadata": {
    "tags": []
   },
   "source": [
    "#### Markers"
   ]
  },
  {
   "cell_type": "code",
   "execution_count": null,
   "id": "08d1b985-f94d-4eaa-aad6-ecb821acc45a",
   "metadata": {},
   "outputs": [],
   "source": [
    "dfmarkers = dfgroup.groupby('group').apply(lambda x: x.sort_values(by='scores').iloc[-10:]).reset_index(drop=True).set_index('group')\n",
    "marker_groups = dfmarkers['names'].reset_index().set_index('names')['group']"
   ]
  },
  {
   "cell_type": "code",
   "execution_count": null,
   "id": "baebdaea-4c37-402d-8eea-b67ddfdc0f0b",
   "metadata": {},
   "outputs": [],
   "source": [
    "adata.X = adata.layers['normalized']\n",
    "scmodel = Spanve.Spanve(adata)\n",
    "# search_space = list(combinations(adata.var_names,2))\n",
    "spatial_coexp(scmodel,search_space = list(combinations(dfmarkers['names'].unique().tolist(),2)) ,verbose=True)\n",
    "\n",
    "scmodel.fit(verbose=True)\n",
    "scmodel.rejects.sum()"
   ]
  },
  {
   "cell_type": "code",
   "execution_count": null,
   "id": "41a3fb52-d530-426c-8345-2f374228f8aa",
   "metadata": {
    "tags": []
   },
   "outputs": [],
   "source": [
    "scvdf = pd.DataFrame(np.array(scmodel.result_df.index.str.split('~').tolist()),columns=['node1','node2'])\n",
    "scvdf['weight'] = scmodel.result_df.loc[scvdf['node1']+'~'+scvdf['node2'],'ent'].values\n",
    "scvdf['weight'] = (scvdf['weight'] - scvdf['weight'].min()) / scvdf['weight'].max()\n",
    "scvdf = scvdf[scmodel.result_df.loc[scvdf['node1']+'~'+scvdf['node2'],'rejects'].values]"
   ]
  },
  {
   "cell_type": "code",
   "execution_count": null,
   "id": "2107007c-c971-405e-aeaf-94f503202327",
   "metadata": {},
   "outputs": [],
   "source": [
    "# scvdf = pd.read_csv('./Results/case.scvdf.csv',index_col=0)\n",
    "# dfmarkers = pd.read_csv('./Results/case_markers.csv',index_col=0) \n",
    "temp = scvdf.groupby('node1').apply(lambda x: x.sort_values('weight')[-5:])\n",
    "# temp = temp.query(\"weight > 0.2\")\n",
    "G = draw_net(temp,weight_scale=1)"
   ]
  },
  {
   "cell_type": "code",
   "execution_count": null,
   "id": "774a1f1c-2863-491c-a4ba-a0f02f31edb2",
   "metadata": {
    "tags": []
   },
   "outputs": [],
   "source": [
    "f,ax = plt.subplots(figsize=(5.6,6))\n",
    "cmap = plt.get_cmap('Paired')\n",
    "# positions = nx.spring_layout(G, k=0.35, scale=50)\n",
    "node_color2 = {i:lighten_color(adata.uns['KMeans_colors'][eval(n)],amount=0.5) for n,sg in dfmarkers['names'].groupby('group').apply(lambda x: x.tolist()).to_dict().items() for i in sg}\n",
    "# draw\n",
    "show_label = False\n",
    "nx.draw_networkx(\n",
    "    G, \n",
    "    # pos=kwargs.get('pos',nx.spring_layout(G, k=0.15, scale=25)),\n",
    "    node_size=[v*40 for k,v in G.degree], \n",
    "    labels={node: node for node in G.nodes()} if show_label else None,\n",
    "    font_color='.3',\n",
    "    edgecolors='w',\n",
    "    # edge width as weight\n",
    "    width=2,#[G[u][v]['weight'] for u,v in G.edges()]*5,\n",
    "    edge_color = [G[u][v]['weight'] for u,v in G.edges()],\n",
    "    edge_cmap = plt.get_cmap('binary'),\n",
    "    edge_vmin=0.2,edge_vmax=1,\n",
    "    font_size=4.5,\n",
    "    node_color = [node_color2[i] for i in G.nodes],\n",
    "    ax=ax,\n",
    "    pos=positions,\n",
    "    )\n",
    "plt.subplots_adjust(left=0.05,right=0.95,bottom=0.05,top=0.95)\n",
    "\n",
    "plt.savefig('figures/subplot4_geneNet.pdf')"
   ]
  },
  {
   "cell_type": "code",
   "execution_count": null,
   "id": "77dead9a-f900-476d-a5a3-64c2233873e0",
   "metadata": {
    "tags": []
   },
   "outputs": [],
   "source": [
    "edge_types = []\n",
    "for i in range(scvdf.shape[0]):\n",
    "    mg0 = list(marker_groups[scvdf.iloc[i,0]])\n",
    "    mg1 = list(marker_groups[scvdf.iloc[i,1]])\n",
    "    if len(set(mg1) & set(mg0)) >= 1: edge_types.append(True)\n",
    "    else: edge_types.append(False)\n",
    "scvdf['edge_types'] = edge_types"
   ]
  },
  {
   "cell_type": "code",
   "execution_count": null,
   "id": "af13ab52-3ce4-4c8d-8163-9153e5b38de2",
   "metadata": {},
   "outputs": [],
   "source": [
    "cross_edges = pd.merge(\n",
    "    right = pd.merge(\n",
    "        right = temp.reset_index(drop=True),left = marker_groups,\n",
    "        right_on='node1',\n",
    "        left_index=True,how='outer'\n",
    "    ),left = marker_groups,right_on='node2',left_index=True)"
   ]
  },
  {
   "cell_type": "code",
   "execution_count": null,
   "id": "4cde1cfc-8975-41b6-b643-cce608b72f36",
   "metadata": {},
   "outputs": [],
   "source": [
    "sns.clustermap(\n",
    "    cross_edges.groupby(['group_x','group_y']).sum().unstack(),\n",
    "    cmap=\"Blues\",\n",
    "    mask=np.tri(7,k=-1).T,\n",
    "    # cbar=False,\n",
    "    col_cluster=False,\n",
    "    col_linkage=False,\n",
    "    # row_linkage=False\n",
    ")"
   ]
  },
  {
   "cell_type": "code",
   "execution_count": null,
   "id": "c1c54651-cc65-4c19-a18a-63d4bab17b86",
   "metadata": {},
   "outputs": [],
   "source": [
    "f = plt.figure()\n",
    "ax1 = plt.subplot2grid((1, 3), (0, 0), colspan=2)\n",
    "ax2 = plt.subplot2grid((1, 3), (0, 2))\n",
    "\n",
    "sns.heatmap(\n",
    "    cross_edges.groupby(['group_x','group_y']).sum().unstack(),\n",
    "    cmap=\"Blues\",\n",
    "    mask=np.tri(7,k=-1).T,\n",
    "    cbar=False,\n",
    "    xticklabels=range(7),\n",
    "    yticklabels=range(7),\n",
    "    square=True,ax=ax1\n",
    ")\n",
    "ax1.set_xlabel('cluster')\n",
    "ax1.set_ylabel('cluster')\n",
    "\n",
    "# scvdf_copy = scvdf.copy()\n",
    "# scvdf_copy['edge_types'].apply(lambda x: 'Cross' if x else 'Within')\n",
    "cmap = plt.get_cmap('Blues')\n",
    "sns.boxplot(scvdf,y = 'weight', x='edge_types', ax=ax2, palette='Blues')\n",
    "ax2.set_xlabel('')\n",
    "ax2.set_ylabel('Weight')\n",
    "# plt.subplots_adjust(left=0.1,right=0.97)\n",
    "ax2.set_xticklabels(['Cross','Within'])\n",
    "plt.tight_layout()\n",
    "plt.savefig('figures/subplot5_weight.pdf')"
   ]
  },
  {
   "cell_type": "code",
   "execution_count": null,
   "id": "f13c199a-287c-4079-b732-15a7d21ec238",
   "metadata": {},
   "outputs": [],
   "source": [
    "scvdf.to_csv('./Results/case.scvdf.csv')"
   ]
  },
  {
   "attachments": {},
   "cell_type": "markdown",
   "id": "4210fe87-b6d8-4c65-801e-50545c98ad40",
   "metadata": {
    "tags": []
   },
   "source": [
    "#### pathway"
   ]
  },
  {
   "cell_type": "code",
   "execution_count": null,
   "id": "31cf8e61-4151-4655-8ea0-fef8d1969e82",
   "metadata": {
    "tags": []
   },
   "outputs": [],
   "source": [
    "def parse_sif_file(path):\n",
    "    df = pd.read_table(path,header=None)\n",
    "    df.columns = ['node1','edge_attr','node2']\n",
    "    return df"
   ]
  },
  {
   "cell_type": "code",
   "execution_count": null,
   "id": "8a761361-a236-42d3-a65a-9c7048c8f3d2",
   "metadata": {
    "scrolled": true,
    "tags": []
   },
   "outputs": [],
   "source": [
    "def run_path_spa_coexp(dfpathway):\n",
    "    adata.X = adata.layers['normalized']\n",
    "    \n",
    "    sccmodel = Spanve.Spanve(adata)\n",
    "    edge_pairs = dfpathway[['node1','node2']].drop_duplicates()\n",
    "    edge_pairs = edge_pairs[edge_pairs['node1'].isin(adata.var_names) & edge_pairs['node2'].isin(adata.var_names)]\n",
    "\n",
    "    spatial_coexp(sccmodel,search_space = edge_pairs.values, verbose=True, groupby='KMeans')\n",
    "    sccmodel.fit(verbose=True)\n",
    "    spacoexp_res = sccmodel.result_df\n",
    "\n",
    "    return sccmodel\n",
    "\n",
    "    sccmodel.adata.obs['KMeans'] = adata.obs['KMeans']\n",
    "    sc.pp.scale(sccmodel.adata)\n",
    "    sc.tl.pca(sccmodel.adata)\n",
    "    sc.tl.rank_genes_groups(sccmodel.adata, \"KMeans\",method='wilcoxon')\n",
    "    dfgroup = sc.get.get.rank_genes_groups_df(sccmodel.adata,group =[str(i) for i in range(7)])\n",
    "    markers = dfgroup.groupby('group').apply(lambda x: x.sort_values('scores',ascending=False).set_index('names').iloc[0:5,:].index)\n",
    "    res = []\n",
    "    for g in np.arange(7).astype(str):\n",
    "        scores = pd.DataFrame(dfgroup.loc[dfgroup['group']==g,['names','scores']].set_index('names')['scores'][markers[g]])\n",
    "        scores['fdrs'] = spacoexp_res.loc[markers[g],'fdrs']\n",
    "        scores['group'] = g\n",
    "        res.append(scores)\n",
    "    return pd.concat(res,axis=0)"
   ]
  },
  {
   "cell_type": "code",
   "execution_count": null,
   "id": "b2bd3919-c8fa-4caa-9cd7-d102af8854f1",
   "metadata": {
    "collapsed": true,
    "jupyter": {
     "outputs_hidden": true
    },
    "scrolled": true,
    "tags": []
   },
   "outputs": [],
   "source": [
    "pathes = []\n",
    "for root,_,files in os.walk('./data/pathway_sif/'):\n",
    "    for file in files:\n",
    "        if not file.endswith('txt'): continue\n",
    "        print(file)\n",
    "        dfpathway = parse_sif_file(os.path.join(root,file))\n",
    "        dfpathway['path'] = file.replace('.txt','')\n",
    "        pathes.append(dfpathway)\n",
    "pathes = pd.concat(pathes,axis=0)\n",
    "# pathes = pathes[['node1','node2']].drop_duplicates()"
   ]
  },
  {
   "cell_type": "code",
   "execution_count": null,
   "id": "4b087f94-340d-46a1-8707-06884abb91a8",
   "metadata": {
    "collapsed": true,
    "jupyter": {
     "outputs_hidden": true
    },
    "scrolled": true,
    "tags": []
   },
   "outputs": [],
   "source": [
    "sccmodel = run_path_spa_coexp(pathes)"
   ]
  },
  {
   "cell_type": "code",
   "execution_count": null,
   "id": "8dd346f5-31db-4feb-a974-aeb3fd5b0f5d",
   "metadata": {
    "tags": []
   },
   "outputs": [],
   "source": [
    "pathes['id'] = pathes['node1']+'~'+pathes['node2']\n",
    "sccmodel.result_df['pathes'] = pathes.groupby('id')['path'].apply(lambda x: ','.join(x.unique().tolist()))[sccmodel.result_df.index]"
   ]
  },
  {
   "cell_type": "code",
   "execution_count": null,
   "id": "9ae8f2bc-c533-4ef3-b09b-c73a8057ffe1",
   "metadata": {
    "tags": []
   },
   "outputs": [],
   "source": [
    "sccmodel.result_df[sccmodel.rejects]['pathes'].value_counts()"
   ]
  },
  {
   "cell_type": "code",
   "execution_count": null,
   "id": "0465e9c4-9339-441e-8caf-2b4e32ea22f1",
   "metadata": {},
   "outputs": [],
   "source": [
    "sccmodel.result_df[sccmodel.rejects].sort_values('fdrs')"
   ]
  },
  {
   "cell_type": "code",
   "execution_count": null,
   "id": "70d231f4-b0e4-4bde-b075-af6654841446",
   "metadata": {
    "collapsed": true,
    "jupyter": {
     "outputs_hidden": true
    },
    "tags": []
   },
   "outputs": [],
   "source": [
    "sccmodel.adata.uns = adata.uns.copy()\n",
    "\n",
    "scale_factor = 5\n",
    "f,axes = plt.subplots(3,4,figsize = (3*scale_factor,2*scale_factor))\n",
    "axes = axes.flatten()\n",
    "for n,genepair in enumerate(sccmodel.result_df[sccmodel.rejects].sort_values('fdrs').index[0:12]):\n",
    "    sc.pl.spatial(\n",
    "        sccmodel.adata, img_key=\"lowres\", color=genepair,\n",
    "        vmax=3,vmin=-3,alpha_img=0.8,cmap='vlag',\n",
    "        ax = axes[n], show=False\n",
    "    )\n",
    "f.savefig('./Results/case.path.spatial_coex.pdf',bbox_inches='tight')"
   ]
  },
  {
   "attachments": {},
   "cell_type": "markdown",
   "id": "86242d00-9d8f-428a-9001-e29d5629b28c",
   "metadata": {
    "tags": []
   },
   "source": [
    "### Chemokines score"
   ]
  },
  {
   "cell_type": "code",
   "execution_count": null,
   "id": "d38d7242-b47c-4df7-bbd6-96c467ececc5",
   "metadata": {},
   "outputs": [],
   "source": [
    "tls_sig = \"CCL2 CCL3 CCL4 CCL5 CCL8 CCL18 CCL19 CCL21 CXCL9 CXCL10 CXCL11 CXCL13\".split(' ')\n",
    "assert np.array([i in adata.var_names for i in tls_sig]).all()\n",
    "from sklearn.decomposition import PCA\n",
    "tlsX = adata.to_df().loc[:,tls_sig]\n",
    "model = PCA(n_components=1)\n",
    "tls_score = model.fit_transform(tlsX)\n",
    "adata.obs['CS'] = tls_score.flatten()\n",
    "sc.pl.spatial(adata, img_key=\"hires\", color=\"TLS\",save='case.TLS.pdf',spot_size=250, cmap = 'Reds',alpha = 0.7,\n",
    ")"
   ]
  },
  {
   "attachments": {},
   "cell_type": "markdown",
   "id": "42eb5ebf",
   "metadata": {},
   "source": [
    "### Tumor marker score"
   ]
  },
  {
   "cell_type": "code",
   "execution_count": null,
   "id": "0ce043f0",
   "metadata": {},
   "outputs": [],
   "source": [
    "can_markers = \"ITK\tARHGAP10\tEDNRA\tSELP\tTLL1\tSEMA6A\tCDH5\tCPNE1\tTPST2\tCRYBB2\tSULF2\tKLRF1\tSELE\tALPI\tFAM177A1\tADH1B\tAKR1A1\tCAMK1D\tCHST15\tGOLM1\tISLR2\tCD36\tPRDM1\tB3GNT2\tTMPRSS11D\tSTOM\tTNS2\tMET\tVCAM1\tJAG1\tTHSD1\tPSD\tIL3RA\tKIN\tBCAM\tC1GALT1C1\tENG\tRSPO3\tDOCK9\tNOTCH1\tKRT19\tKRT8\tEPCAM\tESR1\tKRT18\tERBB2\tBRCA1\tBRCA2\tPDCD1\tVIM\tMKI67\tTRPS1\tPIP\tNKX2-1\tGATA3\tEREG\tCYP3A4\tCYP3A5\tCYP3A7\tSTAT1\tRIC8A\tIRF9\tISG15\tSTAT2\tJAK1\tCDH1\tCTNNA1\tGNA13\tOAS1\"\n",
    "can_markers = can_markers.split('\\t')\n",
    "len(set(can_markers) & set(adata.var_names)) / len(can_markers)\n",
    "adata.X = adata.layers['imputated']\n",
    "canX = adata.to_df().loc[:,list(set(can_markers) & set(adata.var_names))]\n",
    "model = PCA(n_components=1)\n",
    "can_score = model.fit_transform(canX)\n",
    "adata.obs['cancer marker score'] = np.abs(can_score.flatten())\n",
    "sc.pl.spatial(\n",
    "    adata, color = 'cancer marker score',\n",
    "    spot_size=250, cmap = 'Reds_r',alpha = 0.7,\n",
    "    save = 'can_marker'\n",
    ")"
   ]
  },
  {
   "attachments": {},
   "cell_type": "markdown",
   "id": "5a724fe3-697f-41ac-a502-0f90e4d79ae4",
   "metadata": {
    "tags": []
   },
   "source": [
    "### Tumor heterogeneity"
   ]
  },
  {
   "cell_type": "code",
   "execution_count": null,
   "id": "d2ab8fab-78c1-4527-9283-30b4b2ca4df9",
   "metadata": {},
   "outputs": [],
   "source": [
    "tmdata = adata[adata.obs['KMeans'].isin(['0','1','3','4']),adata.var['spanve_spatial_features']].copy()\n",
    "tmdata.X = tmdata.layers['imputated']\n",
    "sc.pp.pca(tmdata)\n",
    "sc.pp.neighbors(tmdata)\n",
    "sc.tl.umap(tmdata)\n",
    "sq.gr.spatial_neighbors(tmdata)"
   ]
  },
  {
   "cell_type": "code",
   "execution_count": null,
   "id": "15c3b5f6-580b-4ee3-b9b4-b6f70978f2ef",
   "metadata": {},
   "outputs": [],
   "source": [
    "sc.tl.diffmap(tmdata)\n",
    "root_ixs = tmdata.obsm[\"X_diffmap\"][:, 2].argmin()\n",
    "tmdata.uns[\"iroot\"] = root_ixs\n",
    "sc.tl.dpt(adata)"
   ]
  },
  {
   "cell_type": "code",
   "execution_count": null,
   "id": "27670606-8be0-403e-8b4c-98600958595b",
   "metadata": {
    "tags": []
   },
   "outputs": [],
   "source": [
    "sc.pl.scatter(\n",
    "    tmdata,\n",
    "    basis=\"diffmap\",\n",
    "    color=[\"dpt_pseudotime\",'KMeans'],\n",
    "    color_map=\"gnuplot2\",\n",
    "    components=[2, 3],\n",
    "    save = 'diffuesemap'\n",
    ")"
   ]
  },
  {
   "cell_type": "code",
   "execution_count": null,
   "id": "3d49c61a-2457-463a-8057-e973d1c1d32e",
   "metadata": {},
   "outputs": [],
   "source": [
    "sc.tl.rank_genes_groups(tmdata, \"KMeans\", method=\"wilcoxon\")"
   ]
  },
  {
   "cell_type": "code",
   "execution_count": null,
   "id": "c8f9b304-5bf0-4383-8ff2-4e60d0ac81ca",
   "metadata": {},
   "outputs": [],
   "source": [
    "tmdata.X = tmdata.layers['imputated']\n",
    "sc.tl.dendrogram(tmdata,groupby='KMeans')\n",
    "sc.pl.rank_genes_groups_heatmap(\n",
    "    tmdata, \n",
    "    groups=['0','1','3','4'], \n",
    "    n_genes=5, \n",
    "    groupby=\"KMeans\",\n",
    "    cmap='viridis',\n",
    "    show=False,\n",
    "    save = 'tumor_hetero'\n",
    "    )"
   ]
  },
  {
   "cell_type": "code",
   "execution_count": null,
   "id": "a1e52e3a-fa7f-46da-931b-6056f7a3a85e",
   "metadata": {},
   "outputs": [],
   "source": [
    "dfgroup.query(\"group == '4'\").sort_values(by='scores',ascending=False)"
   ]
  },
  {
   "cell_type": "code",
   "execution_count": null,
   "id": "2061ae74-deb2-4f12-a03d-2b18d88910bd",
   "metadata": {},
   "outputs": [],
   "source": [
    "print(\n",
    "    *dfgroup.query(\"group == '4'\").sort_values(by='scores',ascending=False)['names'][0:15].tolist(),\n",
    "    sep='\\n')"
   ]
  },
  {
   "attachments": {},
   "cell_type": "markdown",
   "id": "2c24de45",
   "metadata": {},
   "source": [
    "### Cluster Functions"
   ]
  },
  {
   "cell_type": "code",
   "execution_count": null,
   "id": "002f9b0a",
   "metadata": {},
   "outputs": [],
   "source": [
    "import pandas as pd\n",
    "import numpy as np\n",
    "import gseapy as gp\n",
    "import os\n",
    "import matplotlib.pyplot as plt\n",
    "import seaborn as sns"
   ]
  },
  {
   "cell_type": "code",
   "execution_count": null,
   "id": "4ff8e884",
   "metadata": {},
   "outputs": [],
   "source": [
    "base_dir = 'K:/Caiguoxin/Data/Annotation/gseapy/'\n",
    "gene_sets = ['Reactome_2022','KEGG_2019_Human',\n",
    "            'GO_Biological_Process_2021','GO_Molecular_Function_2021','GO_Cellular_Component_2021',\n",
    "            'WikiPathways_2019_Human','MSigDB_Hallmark_2020']\n",
    "gene_sets = [os.path.join(base_dir,f\"enrichr.{i}.gmt\") for i in gene_sets]\n",
    "def func_enrichr(genes):\n",
    "    enrich_res = gp.enrichr(\n",
    "        gene_list=list(genes),\n",
    "        gene_sets=gene_sets,\n",
    "        outdir=None,\n",
    "        verbose=False\n",
    "    )\n",
    "    return enrich_res.results[enrich_res.results['Adjusted P-value']<0.05]\n",
    "\n",
    "def func_gsea(scores):\n",
    "    gsea_res = gp.prerank(\n",
    "        rnk=scores,\n",
    "        gene_sets=gene_sets,\n",
    "        outdir=None,\n",
    "        # min_size=1\n",
    "    )\n",
    "    ret = gsea_res.res2d.query(\"`FDR q-val` < 0.05\")\n",
    "    ret.loc[:,'Gene_set'] = ret['Term'].str.split('__').str[0].str.replace('enrichr.','')\n",
    "    ret.loc[:,'Term'] = ret['Term'].str.split('__').str[1]\n",
    "    return ret.rename(columns = {'FDR q-val':'Adjusted P-value'})"
   ]
  },
  {
   "attachments": {},
   "cell_type": "markdown",
   "id": "01500964",
   "metadata": {},
   "source": [
    "#### cell type annotation"
   ]
  },
  {
   "cell_type": "code",
   "execution_count": null,
   "id": "81ec486f",
   "metadata": {},
   "outputs": [],
   "source": [
    "celltype_scores = pd.DataFrame(columns = ['group','celltype','scores'])\n",
    "df = pd.read_csv('./Results/case_markers.csv',index_col=0)\n",
    "for gid,scores in {i:df.groupby('group').apply(lambda x: x.set_index('names')['scores'])[i] for i in range(7)}.items():\n",
    "    for cell_type,markers in gp.read_gmt('/share/home/biopharm/Caiguoxin/Data/Annotation/Cell_marker_Breast.gmt').items():\n",
    "        celltype_scores.loc[len(celltype_scores),:] = gid, cell_type, np.nanmean(scores[pd.Index(markers).intersection(scores.index)])"
   ]
  },
  {
   "cell_type": "code",
   "execution_count": null,
   "id": "51218d68",
   "metadata": {},
   "outputs": [],
   "source": [
    "scale_factor = 3.5\n",
    "cmap = plt.get_cmap('autumn_r')\n",
    "f,axes = plt.subplots(\n",
    "    7,1,dpi=150,\n",
    "    figsize=(3.7,7),\n",
    "    sharey=True,sharex=True\n",
    ")\n",
    "n_show = 3\n",
    "# plt.subplots_adjust(wspace=1)\n",
    "for n,ax in enumerate(axes.flatten()):\n",
    "    if n == 7:ax.set_axis_off();break\n",
    "    dfvis = celltype_scores.groupby(by='group').apply(lambda x: x.sort_values('scores',ascending=False).iloc[0:3,:]).reset_index(drop=True).query('group == @n')\n",
    "    ax.set_ylim(0,n_show)\n",
    "    \n",
    "    for i in range(dfvis.shape[0]):\n",
    "        ax.text(\n",
    "            x = 0.2,#logp.max()/20,\n",
    "            y = dfvis.shape[0]-i-0.5,\n",
    "            s = dfvis['celltype'].values[i],\n",
    "            verticalalignment ='center',\n",
    "            color = 'k',\n",
    "            fontsize=10,\n",
    "            # transform = ax.transAxes\n",
    "        )\n",
    "    ax.barh(\n",
    "        y = np.arange(dfvis.shape[0])+0.5,\n",
    "        width = dfvis['scores'],\n",
    "        color = cmap(logp / logp.max() / 1.5),alpha=0.5\n",
    "    )\n",
    "    \n",
    "    # ax.set_xlim(xmax = logp.max()*1.1)\n",
    "    # ax.set_title(n)\n",
    "    ax.set_ylabel(n)\n",
    "    ax.set_yticks([])\n",
    "plt.tight_layout()\n",
    "ax.set_xlabel('scores')\n",
    "# ax.set_xlim(0,10)\n",
    "# ax.set_ylim(0,10)\n",
    "plt.savefig('figures/subplot2_celltype.pdf')"
   ]
  },
  {
   "attachments": {},
   "cell_type": "markdown",
   "id": "6ede9312",
   "metadata": {},
   "source": [
    "#### Cluster function"
   ]
  },
  {
   "cell_type": "code",
   "execution_count": null,
   "id": "3db18273",
   "metadata": {},
   "outputs": [],
   "source": [
    "df = pd.read_csv('./Results/case_svmarkers.csv',index_col=0)\n",
    "df = df.set_index('names').groupby('group',).apply(lambda x: x.sort_values('pvals_adj')['scores'].iloc[0:1000])\n",
    "func_res = {}\n",
    "for gid in range(7):\n",
    "    score = df[gid]\n",
    "    res = func_gsea(score)\n",
    "    print(gid,res.shape[0])\n",
    "    func_res[gid] = res"
   ]
  },
  {
   "cell_type": "code",
   "execution_count": null,
   "id": "f3eb9f5d",
   "metadata": {},
   "outputs": [],
   "source": [
    "writer = pd.ExcelWriter('./Results/case.cluster.func.gsea.xlsx')\n",
    "for k,v in func_res.items():\n",
    "    v.to_excel(writer, sheet_name=f'Cluster{k}',index=False)\n",
    "writer.close()"
   ]
  },
  {
   "cell_type": "code",
   "execution_count": null,
   "id": "4060aef6",
   "metadata": {},
   "outputs": [],
   "source": [
    "df = pd.read_csv('./Results/case_svmarkers.csv',index_col=0)\n",
    "func_res = {}\n",
    "for gid,genes in df.groupby('group').apply(lambda x: x.sort_values('scores',ascending=False)['names'][0:100].values).to_dict().items():\n",
    "    res = func_enrichr(genes)\n",
    "    print(gid,res.shape[0])\n",
    "    func_res[gid] = res"
   ]
  },
  {
   "cell_type": "code",
   "execution_count": null,
   "id": "fc15f9a5",
   "metadata": {},
   "outputs": [],
   "source": [
    "# draw functional heatmap: x axis: clusters, y axis: functional terms, color: -log10(p-value)\n",
    "dfvis = pd.concat(func_res).reset_index().rename(columns={'level_0':'group'}).drop(columns=['level_1'])\n",
    "dfvis.loc[:,'Gene_set'] = dfvis['Gene_set'].str.replace('enrichr.','').str.replace('.gmt','')\n",
    "\n",
    "dfvis = dfvis.loc[~dfvis['Gene_set'].isin(['GO_Cellular_Component_2021']),:]\n",
    "dfvis = dfvis.loc[dfvis['Gene_set'].isin(['Reactome_2022','MSigDB_Hallmark_2020']),:]\n",
    "dfvis = dfvis[dfvis['Term'].isin(dfvis.groupby('group',group_keys=False).apply(lambda x: x.sort_values(by= 'Adjusted P-value',ascending=True)['Term'][0:15]).values)]\n",
    "dfheatmap = dfvis.pivot_table(\n",
    "    index = 'Term',\n",
    "    columns = 'group',\n",
    "    values = 'Adjusted P-value'\n",
    ").fillna(1).applymap(lambda x: -np.log10(x))\n",
    "# draw functional heatmap: x axis: clusters, y axis: functional terms, color: -log10(p-value)\n",
    "dfvis = pd.concat(func_res).reset_index().rename(columns={'level_0':'group'}).drop(columns=['level_1'])\n",
    "dfvis.loc[:,'Gene_set'] = dfvis['Gene_set'].str.replace('enrichr.','').str.replace('.gmt','')\n",
    "print(\"before filter: \",dfvis.shape[0])\n",
    "dfvis = dfvis.loc[~dfvis['Gene_set'].isin(['GO_Cellular_Component_2021','KEGG_2019_Human','WikiPathways_2019_Human']),:]\n",
    "# delete terms that include: viral, infection SARS-CoV-2 riboso SPR subunit\n",
    "dfvis = dfvis.loc[~dfvis['Term'].str.lower().str.contains('RB1|kappa|platelet|EPH|via|EPHB|NCA|ROBO|19221|60333|2479|metal|calnexin|69278|neuron|NMD|Chaperones|structure|Elongation|Cristae|GTPase|43S|Seleno|viral|infection|SARS-CoV-2|riboso|SRP|subunit|disease|Rejection|diabetes|Leishmaniasis|Complement'.lower()),:]\n",
    "dfvis = dfvis.loc[dfvis['Term'].str.lower().str.contains('Myc|Adhesion|telomere|mitotic|cycle|Signaling|antigen|MHC|immune|T cell|Estrogen|tumor|integrin|death'.lower()),:]\n",
    "print(\"after filter: \",dfvis.shape[0],dfvis['Term'].nunique())\n",
    "# dfvis = dfvis.loc[dfvis['Gene_set'].isin(['Reactome_2022','MSigDB_Hallmark_2020']),:]\n",
    "# dfvis = dfvis[dfvis['Term'].isin(dfvis.groupby('group',group_keys=False).apply(lambda x: x.sort_values(by= 'Adjusted P-value',ascending=True)['Term'][0:10]).values)]\n",
    "dfheatmap = dfvis.pivot_table(\n",
    "    index = 'Term',\n",
    "    columns = 'group',\n",
    "    values = 'NES'\n",
    ").fillna(0)#.applymap(lambda x: -np.log10(x))"
   ]
  },
  {
   "cell_type": "code",
   "execution_count": null,
   "id": "6ac7e1d3",
   "metadata": {},
   "outputs": [],
   "source": [
    "sns.set_style('white')\n",
    "cmap = plt.get_cmap('Set1')\n",
    "# fill inf\n",
    "sns.clustermap(\n",
    "    data = dfheatmap.replace([np.inf, -np.inf], np.nan).fillna(10),\n",
    "    cmap = 'RdBu_r',\n",
    "    figsize = (12,12),\n",
    "    cbar_kws = {'label':'NES','ticks':[-5,0,5],},\n",
    "    yticklabels = True,\n",
    "    xticklabels = True,\n",
    "    vmin = -5,\n",
    "    vmax = 5,\n",
    "    cbar_pos=(0.03, 0.85, 0.015, 0.1),\n",
    ")\n",
    "# plt.tight_layout()\n",
    "# save\n",
    "plt.savefig('figures/heatmap_functional.pdf')"
   ]
  },
  {
   "attachments": {},
   "cell_type": "markdown",
   "id": "deb58ea8",
   "metadata": {},
   "source": [
    "### os"
   ]
  },
  {
   "cell_type": "code",
   "execution_count": null,
   "id": "e4b88cf7",
   "metadata": {},
   "outputs": [],
   "source": [
    "from utils import os_utils\n",
    "import pandas as pd\n",
    "import numpy as np\n",
    "import os\n",
    "import seaborn as sns\n",
    "import matplotlib.pyplot as plt"
   ]
  },
  {
   "cell_type": "code",
   "execution_count": null,
   "id": "9e226a35",
   "metadata": {},
   "outputs": [],
   "source": [
    "def load_cancer_exp(cancer_type,survival_use = 'OS'):\n",
    "    samples = all_samples[all_samples['cancer type abbreviation'] == cancer_type]\n",
    "    df = data.loc[:,samples.index]\n",
    "\n",
    "    # delete all 0 or na genes\n",
    "    df = df.fillna(0)\n",
    "    df = df[~(df == 0).all(axis=1)]\n",
    "    \n",
    "    # drop duplicated genes\n",
    "    idx = ~df.index.duplicated()\n",
    "    df = df[idx]\n",
    "    \n",
    "    samples_os = dataos.set_index('_PATIENT',drop=True).loc[pd.Index(samples['sample'].values).intersection(pd.Index(samples['sample'].values)),[survival_use,f'{survival_use}.time']]\n",
    "    return df,samples_os"
   ]
  },
  {
   "cell_type": "code",
   "execution_count": null,
   "id": "d8d53d13",
   "metadata": {},
   "outputs": [],
   "source": [
    "def creat_merged_df(gene_set,thres=1500):\n",
    "    n = len(gene_set)\n",
    "    gene_set = list(set(gene_set) & set(dfexp.index))\n",
    "    if n > len(gene_set):\n",
    "        print(\"Genes in the data:\",len(gene_set),'not include:',n-len(gene_set))\n",
    "    \n",
    "    ret = pd.merge(\n",
    "        dfexp.loc[gene_set,samples].T,\n",
    "        dfos.loc[samples,:].rename(columns = {dfos.columns[0]:\"OS\",dfos.columns[1]:\"OS.time\"}),\n",
    "        right_index=True,left_index=True\n",
    "    ).query(\"`OS.time` < @thres\")\n",
    "    ret.loc[:,gene_set] = ret.loc[:,gene_set].apply(lambda x: (x-x.mean()) / x.std())\n",
    "    ret.loc[:,'geneset_median'] = ret.loc[:,gene_set].median(axis=1).values\n",
    "    return ret"
   ]
  },
  {
   "cell_type": "code",
   "execution_count": null,
   "id": "2a3ac023",
   "metadata": {},
   "outputs": [],
   "source": [
    "from utils.os_utils import *\n",
    "import seaborn as sns\n",
    "def QuantileSampleSplitPlot(df_coxreg,gene,ax,q=0.1,**plotargs):\n",
    "    upper = df_coxreg.loc[:,gene].quantile(1-q)\n",
    "    lower = df_coxreg.loc[:,gene].quantile(q)\n",
    "    upper_ix = df_coxreg.loc[:,gene] >= upper\n",
    "    lower_ix = df_coxreg.loc[:,gene] <= lower\n",
    "    df_upper = df_coxreg.loc[upper_ix,[gene,'OS.time','OS']]\n",
    "    df_upper['label'] = 'High'\n",
    "    df_lower = df_coxreg.loc[lower_ix,[gene,'OS.time','OS']]\n",
    "    df_lower['label'] = 'Low'\n",
    "    df = pd.concat([df_upper,df_lower])\n",
    "    try:\n",
    "        results = logrank_test(\n",
    "            durations_A=df_upper['OS.time'],\n",
    "            event_observed_A=df_upper['OS'],\n",
    "            durations_B=df_lower['OS.time'],\n",
    "            event_observed_B=df_lower['OS'],\n",
    "        )\n",
    "    except Exception as e:\n",
    "        print(df_lower,df_upper)\n",
    "        raise e\n",
    "    p_value = results.p_value\n",
    "\n",
    "    KMFFitPlot(df,df['label'],ax=ax,**plotargs)\n",
    "    ax.plot([],[],label=f\"p-value = {p_value:.2f}\",color='white')\n",
    "    ax.legend(\n",
    "        frameon=False,loc='best'\n",
    "    )\n",
    "    ax.set_title(gene)\n",
    "    ax.set_xlabel('')\n",
    "    return ax"
   ]
  },
  {
   "cell_type": "code",
   "execution_count": null,
   "id": "e4ba2f53",
   "metadata": {},
   "outputs": [],
   "source": [
    "data_dir = '../../Data/TCGA/EB++AdjustPANCAN_IlluminaHiSeq_RNASeqV2.geneExp.xena.gz'\n",
    "os_dir = '../../Data/TCGA/Survival_SupplementalTable_S1_20171025_xena_sp.txt'\n",
    "type_dir = '../../Data/TCGA/TCGASubtype.20170308.tsv.gz'\n",
    "\n",
    "data = pd.read_table(data_dir,index_col=0)\n",
    "sample_type = pd.read_table(type_dir)\n",
    "dataos = pd.read_table(os_dir)\n",
    "\n",
    "valid_idx = data.columns.str[0:12].isin(dataos['_PATIENT'])\n",
    "data = data.loc[:,valid_idx]\n",
    "sample_map = dataos.loc[:,['_PATIENT','cancer type abbreviation']].drop_duplicates().set_index('_PATIENT',drop=True)\n",
    "all_samples = pd.DataFrame(columns = ['sample','site'],index= data.columns)\n",
    "all_samples['sample'] = all_samples.index.str[0:12]\n",
    "all_samples['site'] = all_samples.index.str[-2:]\n",
    "all_samples = pd.merge(left = all_samples,right = sample_map,right_index=True,left_on='sample')"
   ]
  },
  {
   "cell_type": "code",
   "execution_count": null,
   "id": "c5187599",
   "metadata": {},
   "outputs": [],
   "source": [
    "dfexp,dfos = load_cancer_exp('BRCA','PFI') # OS\tDSS\tDFI\tPFI\t\t\n",
    "dfsubtype = dataos.set_index('sample').loc[dfexp.columns,:]\n",
    "samples = dfsubtype.query(\"histological_type == 'Infiltrating Ductal Carcinoma'\").index\n",
    "samples = samples[samples.str.endswith('01')]\n",
    "dfos.index = dfos.index + '-01'\n",
    "\n",
    "gene_set = ['LINC00645',\n",
    " 'PVALB',\n",
    " 'LINC02224',\n",
    " 'COLEC12',\n",
    " 'TNFSF10',\n",
    " 'TMEM150C',\n",
    " 'SLC39A6',\n",
    " 'MUC5B',\n",
    " 'EXOC2',\n",
    " 'CFB',\n",
    " 'RPS18',\n",
    " 'AFP',\n",
    " 'SDC4',\n",
    " 'AC037198.2',\n",
    " 'RPS23']\n",
    "\n",
    "gene_set_sep = gene_set[0:5]\n",
    "dfcox = creat_merged_df(gene_set_sep,thres =360*10)\n",
    "sns.set_style('white')\n",
    "scale=1.7\n",
    "f,ax = os_utils.plt.subplots(dpi=300,figsize=(5*scale,3.5*scale))\n",
    "QuantileSampleSplitPlot(dfcox,gene = 'geneset_median', show_censors=True,q = 0.2, ci_show=False,ax=ax,colors= {\"High\":\"#d1464f\",\"Low\":\"#455d9f\"})\n",
    "ax.set_ylabel('Survival probability')\n",
    "ax.set_xlabel('Progression free interval (days)')\n",
    "ax.set_title('')\n",
    "f.savefig('figures/survival.pdf',bbox_inches='tight')"
   ]
  }
 ],
 "metadata": {
  "kernelspec": {
   "display_name": "Python 3 (ipykernel)",
   "language": "python",
   "name": "python3"
  },
  "language_info": {
   "codemirror_mode": {
    "name": "ipython",
    "version": 3
   },
   "file_extension": ".py",
   "mimetype": "text/x-python",
   "name": "python",
   "nbconvert_exporter": "python",
   "pygments_lexer": "ipython3",
   "version": "3.9.13"
  }
 },
 "nbformat": 4,
 "nbformat_minor": 5
}
