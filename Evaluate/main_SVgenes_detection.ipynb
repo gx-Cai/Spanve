{
 "cells": [
  {
   "cell_type": "code",
   "execution_count": 2,
   "id": "b16c55ea-dd55-4948-b1f0-796d4326016e",
   "metadata": {
    "execution": {
     "iopub.execute_input": "2024-02-21T01:12:16.951177Z",
     "iopub.status.busy": "2024-02-21T01:12:16.950735Z",
     "iopub.status.idle": "2024-02-21T01:12:16.993082Z",
     "shell.execute_reply": "2024-02-21T01:12:16.992119Z",
     "shell.execute_reply.started": "2024-02-21T01:12:16.951127Z"
    },
    "tags": []
   },
   "outputs": [],
   "source": [
    "import os\n",
    "import tqdm\n",
    "import warnings\n",
    "warnings.filterwarnings('ignore')\n",
    "warnings.filterwarnings('ignore', category=UserWarning)\n",
    "\n",
    "saving_root = './recode'\n",
    "\n",
    "# --  softs\n",
    "## 'spanve-k','spanve-d', 'p.spanve-k','p.spanve-d'\n",
    "## 'somde','moran','geary', 'spatialde',\n",
    "## 'r-sparkx','r-gitto-rank','r-gitto-sirank', 'r-meringue',\n",
    "## 'sepal', 'seurat','cell_ranger','seurat_v3'\n",
    "\n",
    "def running_experiment(\n",
    "    softs = ['seurat','cell_ranger','seurat_v3'],\n",
    "    datasets_id = 'SpatialBench', # '10XGenomics' ; folder under data\n",
    "    filter_code = '',\n",
    "    filter_datasets_flag = False,\n",
    "    check_runned = False,\n",
    "):\n",
    "    \n",
    "    def filter_datasets(name,max_val=80,min_val=0):\n",
    "        if not filter_datasets_flag: \n",
    "            if filter_code in name:\n",
    "                return True\n",
    "            else: return False\n",
    "        if int(name.split('_')[1]) > max_val:\n",
    "            return False\n",
    "        if int(name.split('_')[1]) <= min_val:\n",
    "            return False\n",
    "        else :\n",
    "            print(name)\n",
    "            return True\n",
    "        \n",
    "    base_dir = f'./data/{datasets_id}'\n",
    "    dataset_dirs = [os.path.join(base_dir,i) for i in os.listdir(base_dir) if (filter_datasets(i) and i.endswith('h5ad'))]\n",
    "    bar = tqdm.tqdm(total=len(dataset_dirs)*len(softs))\n",
    "\n",
    "    for dataset_dir in dataset_dirs:\n",
    "        if not dataset_dir.endswith('h5ad'): \n",
    "            continue\n",
    "        for soft in softs:\n",
    "            bar.set_description(f'{dataset_dir}_{soft}')\n",
    "            dataset_name = os.path.basename(dataset_dir)\n",
    "            saving_path = os.path.join(saving_root,datasets_id,dataset_name,soft)\n",
    "            if not os.path.exists(saving_path):\n",
    "                os.makedirs(saving_path)\n",
    "            elif check_runned:\n",
    "                bar.update(1)\n",
    "                continue\n",
    "\n",
    "            memory_info = os.path.join(saving_path,'memory_info.txt')\n",
    "            command = f'\\\\time --output {memory_info} python ./utils/frame.py --dataset {dataset_dir} --soft {soft} --saving_path {saving_path}'\n",
    "            try:\n",
    "                os.system(command)\n",
    "            except:\n",
    "                print(command)\n",
    "                !rm -rf $saving_path\n",
    "                raise Exception(f'error in {dataset_dir} {soft}')\n",
    "                os.exit(1)\n",
    "            bar.update(1)\n",
    "    bar.close()"
   ]
  }
 ],
 "metadata": {
  "kernelspec": {
   "display_name": "Python 3 (ipykernel)",
   "language": "python",
   "name": "python3"
  },
  "language_info": {
   "codemirror_mode": {
    "name": "ipython",
    "version": 3
   },
   "file_extension": ".py",
   "mimetype": "text/x-python",
   "name": "python",
   "nbconvert_exporter": "python",
   "pygments_lexer": "ipython3",
   "version": "3.9.13"
  }
 },
 "nbformat": 4,
 "nbformat_minor": 5
}
